{
 "cells": [
  {
   "metadata": {},
   "cell_type": "markdown",
   "source": [
    "RRDB (Residual-in-Residual Dense Block) combines three different ideas - residual connection, dense connection and residual-in-residual (local + global skip connections). This idea allows to build a deep network without accuracy reducing, because: dense connection redistributes the features in more effective \n",
    "way and residual-in-residual allows to have a stable learning even with deep layers - thats why we could have a stable network for deep features preprocessing without gradient explosion. (Could be used in Image-to-Image networks, especially GANs)."
   ],
   "id": "c8fee2bc457d2110"
  },
  {
   "cell_type": "code",
   "id": "initial_id",
   "metadata": {
    "collapsed": true,
    "ExecuteTime": {
     "end_time": "2025-09-05T17:32:45.200010Z",
     "start_time": "2025-09-05T17:32:43.967355Z"
    }
   },
   "source": [
    "import torch \n",
    "from torch import nn \n",
    "import torch.nn.functional as F "
   ],
   "outputs": [],
   "execution_count": 1
  },
  {
   "metadata": {
    "ExecuteTime": {
     "end_time": "2025-09-05T18:21:45.445198Z",
     "start_time": "2025-09-05T18:21:45.436926Z"
    }
   },
   "cell_type": "code",
   "source": [
    "class ResDenseBlock(nn.Module):\n",
    "    def __init__(self, nf=32, gc=32):\n",
    "        super().__init__()\n",
    "        \n",
    "        self.conv1 = nn.Conv2d(nf, gc, 3, 1, 1)\n",
    "        self.conv2 = nn.Conv2d(nf + gc, gc, 3, 1, 1)\n",
    "        self.conv3 = nn.Conv2d(nf + gc * 2, gc, 3, 1, 1)\n",
    "        self.conv4 = nn.Conv2d(nf + gc * 3, gc, 3, 1, 1)\n",
    "        self.conv5 = nn.Conv2d(nf + gc * 4, nf, 3, 1, 1)\n",
    "        \n",
    "    def forward(self, x):\n",
    "        # print(f\"x.shape: {x.shape}\")\n",
    "        x1 = F.leaky_relu(self.conv1(x))\n",
    "        # print(f\"x1.shape: {x1.shape}\")\n",
    "        x2 = F.leaky_relu(self.conv2(torch.cat([x, x1], 1)))\n",
    "        # print(f\"x2.shape: {x2.shape}\")\n",
    "        x3 = F.leaky_relu(self.conv3(torch.cat([x, x1, x2], 1)))\n",
    "        # print(f\"x3.shape: {x3.shape}\")\n",
    "        x4 = F.leaky_relu(self.conv4(torch.cat([x, x1, x2, x3], 1)))\n",
    "        # print(f\"x4.shape: {x4.shape}\")\n",
    "        x5 = (self.conv5(torch.cat([x, x1, x2, x3, x4], 1)))\n",
    "        # print(f\"x5.shape: {x5.shape}\")\n",
    "        return x + x5 * 0.2"
   ],
   "id": "b879b98d483aacb2",
   "outputs": [],
   "execution_count": 20
  },
  {
   "metadata": {
    "ExecuteTime": {
     "end_time": "2025-09-05T18:21:46.632344Z",
     "start_time": "2025-09-05T18:21:46.589302Z"
    }
   },
   "cell_type": "code",
   "source": [
    "block = ResDenseBlock()\n",
    "tensor = torch.randn(1, 32, 64, 64)\n",
    "\n",
    "out = block(tensor)\n",
    "out.shape"
   ],
   "id": "789620d854f27144",
   "outputs": [
    {
     "data": {
      "text/plain": [
       "torch.Size([1, 32, 64, 64])"
      ]
     },
     "execution_count": 21,
     "metadata": {},
     "output_type": "execute_result"
    }
   ],
   "execution_count": 21
  },
  {
   "metadata": {},
   "cell_type": "markdown",
   "source": "And final version of RRDB will be formed from several of ResDanseBlock:",
   "id": "3e4cf70dd847bbfe"
  },
  {
   "metadata": {
    "ExecuteTime": {
     "end_time": "2025-09-05T18:27:35.490899Z",
     "start_time": "2025-09-05T18:27:35.482251Z"
    }
   },
   "cell_type": "code",
   "source": [
    "class RRND(nn.Module):\n",
    "    def __init__(self, nf=64, gc=32):\n",
    "        super().__init__()\n",
    "        \n",
    "        self.block1 = ResDenseBlock(nf, gc)\n",
    "        self.block2 = ResDenseBlock(nf, gc)\n",
    "        self.block3 = ResDenseBlock(nf, gc)\n",
    "        \n",
    "    def forward(self, x):\n",
    "        out = self.block1(x)\n",
    "        out = self.block2(out)\n",
    "        out = self.block3(out)\n",
    "        return x + out * 0.2"
   ],
   "id": "b1f5ad04a5592d04",
   "outputs": [],
   "execution_count": 22
  },
  {
   "metadata": {
    "ExecuteTime": {
     "end_time": "2025-09-05T18:27:54.433986Z",
     "start_time": "2025-09-05T18:27:54.295513Z"
    }
   },
   "cell_type": "code",
   "source": [
    "block = RRND()\n",
    "tensor = torch.randn(1, 64, 64, 64)\n",
    "\n",
    "out = block(tensor)\n",
    "out.shape"
   ],
   "id": "6f19cd5d03d9c5f7",
   "outputs": [
    {
     "data": {
      "text/plain": [
       "torch.Size([1, 64, 64, 64])"
      ]
     },
     "execution_count": 24,
     "metadata": {},
     "output_type": "execute_result"
    }
   ],
   "execution_count": 24
  },
  {
   "metadata": {},
   "cell_type": "markdown",
   "source": "RRDB is only an assistance instrument, but not an independent network, whole network with it could look like that:",
   "id": "9525007e8e460a19"
  },
  {
   "metadata": {
    "ExecuteTime": {
     "end_time": "2025-09-05T18:47:17.033087Z",
     "start_time": "2025-09-05T18:47:17.023314Z"
    }
   },
   "cell_type": "code",
   "source": [
    "class Net(nn.Module):\n",
    "    def __init__(self, in_channels=3, out_channels=3, nf=64, gc=32):\n",
    "        super().__init__()\n",
    "        \n",
    "        # 3, 256, 256\n",
    "        self.conv1 = nn.Conv2d(in_channels, nf, 4, 2, 1)\n",
    "        # 64, 128, 128\n",
    "        self.conv2 = nn.Conv2d(nf, nf, 4, 2, 1)\n",
    "        # 64, 64, 64\n",
    "        self.lrelu = nn.LeakyReLU(0.2, True)\n",
    "        \n",
    "        self.rrdb1 = RRND(nf, gc)\n",
    "        self.rrdb2 = RRND(nf, gc)  \n",
    "        self.rrdb3 = RRND(nf, gc)\n",
    "        \n",
    "        self.conv_trunk = nn.Conv2d(nf, nf, 3, 1, 1)\n",
    "        \n",
    "        self.up = nn.Sequential(\n",
    "            nn.Upsample(scale_factor=2, mode=\"nearest\"),\n",
    "            nn.Conv2d(nf, nf, 3, 1, 1),\n",
    "            nn.LeakyReLU(0.2, inplace=True),\n",
    "            \n",
    "            nn.Upsample(scale_factor=2, mode=\"nearest\"),\n",
    "            nn.Conv2d(nf, nf, 3, 1, 1),\n",
    "            nn.LeakyReLU(0.2, inplace=True)\n",
    "        )\n",
    "        \n",
    "        \n",
    "        self.de_conv1 = nn.Conv2d(nf, nf, 3, 1, 1)\n",
    "        self.de_conv2 = nn.Conv2d(nf, out_channels, 3, 1, 1)\n",
    "        \n",
    "    def forward(self, x):\n",
    "        out = self.lrelu(self.conv1(x))\n",
    "        out = self.lrelu(self.conv2(out))\n",
    "        \n",
    "        trunk = self.rrdb1(out)\n",
    "        trunk = self.rrdb2(trunk)\n",
    "        trunk = self.rrdb3(trunk)\n",
    "        trunk = self.conv_trunk(trunk)\n",
    "        \n",
    "        # print(trunk.shape)\n",
    "        out += trunk     # THIS IS A GLOBAL RESIDUAL CONNECTION \n",
    "        # print(out.shape)\n",
    "        \n",
    "        out = self.up(out)\n",
    "        \n",
    "        out = self.lrelu(self.de_conv1(out))\n",
    "        out = F.sigmoid(self.de_conv2(out))\n",
    "        \n",
    "        return out\n",
    "        "
   ],
   "id": "93e8a7a673e5d648",
   "outputs": [],
   "execution_count": 27
  },
  {
   "metadata": {
    "ExecuteTime": {
     "end_time": "2025-09-05T18:47:19.751437Z",
     "start_time": "2025-09-05T18:47:19.312861Z"
    }
   },
   "cell_type": "code",
   "source": [
    "tensor = torch.randn(1, 3, 256, 256)\n",
    "net = Net()\n",
    "\n",
    "out = net(tensor)\n",
    "out.shape"
   ],
   "id": "c6f95bd9b48b6afd",
   "outputs": [
    {
     "name": "stdout",
     "output_type": "stream",
     "text": [
      "torch.Size([1, 64, 64, 64])\n",
      "torch.Size([1, 64, 64, 64])\n"
     ]
    },
    {
     "data": {
      "text/plain": [
       "torch.Size([1, 3, 256, 256])"
      ]
     },
     "execution_count": 28,
     "metadata": {},
     "output_type": "execute_result"
    }
   ],
   "execution_count": 28
  }
 ],
 "metadata": {
  "kernelspec": {
   "display_name": "Python 3",
   "language": "python",
   "name": "python3"
  },
  "language_info": {
   "codemirror_mode": {
    "name": "ipython",
    "version": 2
   },
   "file_extension": ".py",
   "mimetype": "text/x-python",
   "name": "python",
   "nbconvert_exporter": "python",
   "pygments_lexer": "ipython2",
   "version": "2.7.6"
  }
 },
 "nbformat": 4,
 "nbformat_minor": 5
}
