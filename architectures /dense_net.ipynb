{
 "cells": [
  {
   "metadata": {},
   "cell_type": "markdown",
   "source": [
    "The main idea of dense-net architecture is that each layer receives not only previous layer output, but an output from ALL \n",
    "previous layers:\n",
    "    \n",
    "layer_1(x) -> x1 -> relu(x1) -> layer_2([x, x1]) -> x2 -> relu(x2) -> layer3([x, x1, x3]) -> x3 ...\n",
    "\n",
    "In each new layer old outputs will be concatenated. "
   ],
   "id": "2652919b5514fa25"
  },
  {
   "cell_type": "code",
   "id": "initial_id",
   "metadata": {
    "collapsed": true,
    "ExecuteTime": {
     "end_time": "2024-12-29T21:58:13.485527Z",
     "start_time": "2024-12-29T21:58:12.335374Z"
    }
   },
   "source": [
    "from random import random\n",
    "\n",
    "import torch \n",
    "from torch import nn\n",
    "import torch.nn.functional as F"
   ],
   "outputs": [],
   "execution_count": 1
  },
  {
   "metadata": {
    "ExecuteTime": {
     "end_time": "2024-12-16T10:00:31.145713Z",
     "start_time": "2024-12-16T10:00:31.140906Z"
    }
   },
   "cell_type": "code",
   "source": [
    "# growth_rate - means value with which we will increase the output of the layer \n",
    "class DenseLayer(nn.Module):\n",
    "    def __init__(self, in_channels, growth_rate):\n",
    "        super(DenseLayer, self).__init__()\n",
    "        self.conv = nn.Conv2d(in_channels, growth_rate, kernel_size=3, padding=1)\n",
    "\n",
    "    def forward(self, x):\n",
    "        out = self.conv(x)\n",
    "        new_features = F.relu(out)\n",
    "        # print(f\"1st: {x.shape}, 2nd: {new_features.shape}\")\n",
    "        out = torch.concat([x, new_features], dim=1) \n",
    "        # print(f\"concat: {out.shape}\")\n",
    "        return out\n",
    "    \n",
    "\n"
   ],
   "id": "51ec91ced188e43f",
   "outputs": [],
   "execution_count": 241
  },
  {
   "metadata": {},
   "cell_type": "code",
   "outputs": [],
   "execution_count": null,
   "source": [
    "# Concatination of tensors:\n",
    "\n",
    "# x = [3, 224, 224]\n",
    "# y = [29, 224, 224]\n",
    "# res = torch.concat([x, y])\n",
    "\n",
    "# res = [32, 224, 224]"
   ],
   "id": "329f518989630323"
  },
  {
   "metadata": {
    "ExecuteTime": {
     "end_time": "2024-12-16T10:00:42.866997Z",
     "start_time": "2024-12-16T10:00:42.805127Z"
    }
   },
   "cell_type": "code",
   "source": [
    "layer1 = DenseLayer(in_channels = 3, growth_rate = 29)\n",
    "layer2 = DenseLayer(in_channels = 32, growth_rate = 32)\n",
    "\n",
    "tensor = torch.rand(1, 3, 224, 224)\n",
    "\n",
    "out = layer1(tensor)\n",
    "out = layer2(out)\n",
    "out.shape"
   ],
   "id": "2397a8b2725876b0",
   "outputs": [
    {
     "data": {
      "text/plain": [
       "torch.Size([1, 64, 224, 224])"
      ]
     },
     "execution_count": 243,
     "metadata": {},
     "output_type": "execute_result"
    }
   ],
   "execution_count": 243
  },
  {
   "metadata": {},
   "cell_type": "markdown",
   "source": [
    "So, instead of output_channels using, we assign a growth_rate, which we will add to channel dimension of each output tensor:\n",
    "\n",
    "tensor([3, 224, 224]) -> conv1(in_channels = 3, growth = 13) -> tensor([(3+13), 224, 224])\n",
    "\n"
   ],
   "id": "e0e1af95c8a4e62a"
  },
  {
   "metadata": {
    "ExecuteTime": {
     "end_time": "2024-12-16T10:00:47.657518Z",
     "start_time": "2024-12-16T10:00:47.653468Z"
    }
   },
   "cell_type": "code",
   "source": [
    "# to automatize and unite some separate dense-net layer, we may use dense-block:\n",
    "class DenseBlock(nn.Module):\n",
    "    def __init__(self, in_channels, growth_rate, num_layers, pool = True):\n",
    "        super(DenseBlock, self).__init__()\n",
    "        # this will contain layers in a list-form \n",
    "        \n",
    "        if pool == True:\n",
    "            self.pool = nn.MaxPool2d(kernel_size=2, stride=2)\n",
    "        else:\n",
    "            self.pool = None\n",
    "            \n",
    "        self.layers = nn.ModuleList()\n",
    "        for i in range(num_layers):         # 3           2\n",
    "            self.layers.append(DenseLayer(in_channels, growth_rate))\n",
    "            # print(f\"{i}: {in_channels} {growth_rate}\")\n",
    "            # previous layer generates output with concatenation and this string make next layer with same output:\n",
    "            \n",
    "            # in_channels - 5\n",
    "            # growth_rate - 3\n",
    "            # res = concat((5, _, _), (3, _, _)) \n",
    "            # res = 8, _, _\n",
    "            \n",
    "            # in_channels += growth_rate -> in_channels = 5 + 3 -> 8\n",
    "            in_channels += growth_rate\n",
    "\n",
    "    def forward(self, x):\n",
    "        for layer in self.layers:\n",
    "            x = layer(x) \n",
    "            \n",
    "            if self.pool:\n",
    "                x = self.pool(x)\n",
    "        return x\n",
    "    \n"
   ],
   "id": "acda85b0c291e8eb",
   "outputs": [],
   "execution_count": 244
  },
  {
   "metadata": {
    "ExecuteTime": {
     "end_time": "2024-12-16T10:00:51.448858Z",
     "start_time": "2024-12-16T10:00:51.443747Z"
    }
   },
   "cell_type": "code",
   "source": "block = DenseBlock(in_channels = 3, growth_rate = 16, num_layers = 4)",
   "id": "c2c958f193da28f1",
   "outputs": [],
   "execution_count": 245
  },
  {
   "metadata": {
    "ExecuteTime": {
     "end_time": "2024-12-16T10:00:57.587166Z",
     "start_time": "2024-12-16T10:00:57.583842Z"
    }
   },
   "cell_type": "code",
   "source": "tensor = torch.rand(1, 3, 224, 224)",
   "id": "9add437a8a4b10f8",
   "outputs": [],
   "execution_count": 249
  },
  {
   "metadata": {
    "ExecuteTime": {
     "end_time": "2024-12-16T10:00:58.732026Z",
     "start_time": "2024-12-16T10:00:58.690521Z"
    }
   },
   "cell_type": "code",
   "source": [
    "out = block(tensor)\n",
    "out.shape"
   ],
   "id": "a42354d2c686aedb",
   "outputs": [
    {
     "data": {
      "text/plain": [
       "torch.Size([1, 67, 14, 14])"
      ]
     },
     "execution_count": 250,
     "metadata": {},
     "output_type": "execute_result"
    }
   ],
   "execution_count": 250
  },
  {
   "metadata": {},
   "cell_type": "code",
   "outputs": [],
   "execution_count": null,
   "source": "",
   "id": "c187ed4a05b3c9c5"
  },
  {
   "metadata": {
    "ExecuteTime": {
     "end_time": "2024-12-16T10:52:29.330175Z",
     "start_time": "2024-12-16T10:52:29.323433Z"
    }
   },
   "cell_type": "code",
   "source": [
    "class MiniDenseNet(nn.Module):\n",
    "    def __init__(self, classes=5):\n",
    "        super(MiniDenseNet, self).__init__()\n",
    "        \n",
    "        self.conv1 = nn.Conv2d(3, 32, kernel_size=3, padding=1)\n",
    "        self.block1 = DenseBlock(in_channels = 32, growth_rate = 16, num_layers = 4)\n",
    "        self.block2 = DenseBlock(in_channels = 96, growth_rate = 16, num_layers = 2, pool = False)\n",
    "        self.conv2 = nn.Conv2d(in_channels = 128, out_channels = 256, kernel_size=3, padding=1)\n",
    "        self.pool = nn.MaxPool2d(kernel_size=2, stride=2)\n",
    "        self.conv3 = nn.Conv2d(in_channels = 256, out_channels = 512, kernel_size=3, padding=1)\n",
    "        # 32\n",
    "            \n",
    "        self.flatten = nn.Flatten()\n",
    "           \n",
    "            \n",
    "        # Финальный слой классификации\n",
    "        self.linear1 = nn.Linear(512, 64)\n",
    "        self.linear2 = nn.Linear(64, classes)\n",
    "             \n",
    "    def forward(self, x):\n",
    "        out = self.conv1(x)\n",
    "        out = F.relu(out)\n",
    "        out = self.pool(out)\n",
    "        \n",
    "        out = self.block1(out)\n",
    "        out = self.block2(out)\n",
    "        \n",
    "        out = self.conv2(out)\n",
    "        out = F.relu(out)\n",
    "        out = self.pool(out)\n",
    "        \n",
    "        out = self.conv3(out)\n",
    "        out = F.relu(out)\n",
    "        out = self.pool(out)\n",
    "        \n",
    "        out = self.flatten(out)\n",
    "        \n",
    "        out = self.linear1(out)\n",
    "        out = nn.Dropout(0.5)(out)\n",
    "        out = F.relu(out)\n",
    "        \n",
    "        out = self.linear2(out)\n",
    "        \n",
    "        return out\n",
    "    \n",
    "    \n",
    "    def predict(self, x):\n",
    "        self.eval()\n",
    "        \n",
    "        with torch.no_grad():\n",
    "            \n",
    "            out = self.forward(x)\n",
    "            t_out = torch.softmax(out, dim = 1)\n",
    "            res = torch.argmax(t_out, dim= 1)\n",
    "            \n",
    "            return res\n",
    "        "
   ],
   "id": "12248d6e14476793",
   "outputs": [],
   "execution_count": 279
  },
  {
   "metadata": {
    "ExecuteTime": {
     "end_time": "2024-12-16T10:52:32.024830Z",
     "start_time": "2024-12-16T10:52:31.966036Z"
    }
   },
   "cell_type": "code",
   "source": [
    "from torchsummary import summary\n",
    "\n",
    "test_block = MiniDenseNet()\n",
    "summary(test_block, (3, 224, 224))"
   ],
   "id": "d38d4de827dcdb39",
   "outputs": [
    {
     "name": "stdout",
     "output_type": "stream",
     "text": [
      "----------------------------------------------------------------\n",
      "        Layer (type)               Output Shape         Param #\n",
      "================================================================\n",
      "            Conv2d-1         [-1, 32, 224, 224]             896\n",
      "         MaxPool2d-2         [-1, 32, 112, 112]               0\n",
      "            Conv2d-3         [-1, 16, 112, 112]           4,624\n",
      "        DenseLayer-4         [-1, 48, 112, 112]               0\n",
      "         MaxPool2d-5           [-1, 48, 56, 56]               0\n",
      "            Conv2d-6           [-1, 16, 56, 56]           6,928\n",
      "        DenseLayer-7           [-1, 64, 56, 56]               0\n",
      "         MaxPool2d-8           [-1, 64, 28, 28]               0\n",
      "            Conv2d-9           [-1, 16, 28, 28]           9,232\n",
      "       DenseLayer-10           [-1, 80, 28, 28]               0\n",
      "        MaxPool2d-11           [-1, 80, 14, 14]               0\n",
      "           Conv2d-12           [-1, 16, 14, 14]          11,536\n",
      "       DenseLayer-13           [-1, 96, 14, 14]               0\n",
      "        MaxPool2d-14             [-1, 96, 7, 7]               0\n",
      "       DenseBlock-15             [-1, 96, 7, 7]               0\n",
      "           Conv2d-16             [-1, 16, 7, 7]          13,840\n",
      "       DenseLayer-17            [-1, 112, 7, 7]               0\n",
      "           Conv2d-18             [-1, 16, 7, 7]          16,144\n",
      "       DenseLayer-19            [-1, 128, 7, 7]               0\n",
      "       DenseBlock-20            [-1, 128, 7, 7]               0\n",
      "           Conv2d-21            [-1, 256, 7, 7]         295,168\n",
      "        MaxPool2d-22            [-1, 256, 3, 3]               0\n",
      "           Conv2d-23            [-1, 512, 3, 3]       1,180,160\n",
      "        MaxPool2d-24            [-1, 512, 1, 1]               0\n",
      "          Flatten-25                  [-1, 512]               0\n",
      "           Linear-26                   [-1, 64]          32,832\n",
      "           Linear-27                    [-1, 5]             325\n",
      "================================================================\n",
      "Total params: 1,571,685\n",
      "Trainable params: 1,571,685\n",
      "Non-trainable params: 0\n",
      "----------------------------------------------------------------\n",
      "Input size (MB): 0.57\n",
      "Forward/backward pass size (MB): 26.12\n",
      "Params size (MB): 6.00\n",
      "Estimated Total Size (MB): 32.69\n",
      "----------------------------------------------------------------\n"
     ]
    }
   ],
   "execution_count": 280
  },
  {
   "metadata": {
    "ExecuteTime": {
     "end_time": "2024-12-15T20:43:06.676702Z",
     "start_time": "2024-12-15T20:43:06.525827Z"
    }
   },
   "cell_type": "code",
   "source": [
    "test_block = MiniDenseNet()\n",
    "tensor = torch.rand(3, 224, 224).unsqueeze(0)\n",
    "\n",
    "res = test_block(tensor)\n",
    "res.shape"
   ],
   "id": "5685776e20e44fd0",
   "outputs": [
    {
     "data": {
      "text/plain": [
       "torch.Size([1, 128, 3, 3])"
      ]
     },
     "execution_count": 230,
     "metadata": {},
     "output_type": "execute_result"
    }
   ],
   "execution_count": 230
  }
 ],
 "metadata": {
  "kernelspec": {
   "display_name": "Python 3",
   "language": "python",
   "name": "python3"
  },
  "language_info": {
   "codemirror_mode": {
    "name": "ipython",
    "version": 2
   },
   "file_extension": ".py",
   "mimetype": "text/x-python",
   "name": "python",
   "nbconvert_exporter": "python",
   "pygments_lexer": "ipython2",
   "version": "2.7.6"
  }
 },
 "nbformat": 4,
 "nbformat_minor": 5
}
