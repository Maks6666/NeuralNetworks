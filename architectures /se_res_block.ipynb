{
 "cells": [
  {
   "cell_type": "code",
   "execution_count": null,
   "id": "initial_id",
   "metadata": {
    "collapsed": true
   },
   "outputs": [],
   "source": "# idea: to combine skip-connection and SE-block in a single one - SE_Residual_block"
  },
  {
   "metadata": {
    "ExecuteTime": {
     "end_time": "2025-02-06T07:23:11.670644Z",
     "start_time": "2025-02-06T07:23:10.383660Z"
    }
   },
   "cell_type": "code",
   "source": [
    "import torch \n",
    "from torch import nn\n",
    "import torch.nn.functional as F"
   ],
   "id": "c7487c3ad20327b9",
   "outputs": [],
   "execution_count": 2
  },
  {
   "metadata": {
    "ExecuteTime": {
     "end_time": "2025-02-06T07:23:14.484276Z",
     "start_time": "2025-02-06T07:23:14.478811Z"
    }
   },
   "cell_type": "code",
   "source": [
    "class SEBlock(nn.Module):\n",
    "    def __init__(self, C, r=16):\n",
    "        super().__init__()\n",
    "        \n",
    "        self.aap = nn.AdaptiveAvgPool2d((1, 1))\n",
    "        self.flatten = nn.Flatten()\n",
    "        \n",
    "        self.linear1 = nn.Linear(C, C//r)\n",
    "        self.linear2 = nn.Linear(C//r, C)\n",
    "        \n",
    "        self.relu = nn.ReLU()\n",
    "        self.sigmoid = nn.Sigmoid()\n",
    "    \n",
    "    def forward(self, x):\n",
    "        out = self.aap(x)\n",
    "        out = self.flatten(out)\n",
    "        \n",
    "        out = self.relu(self.linear1(out))\n",
    "        out = self.sigmoid(self.linear2(out))\n",
    "        \n",
    "        out = out[:, :, None, None]\n",
    "        \n",
    "        res = x * out\n",
    "        \n",
    "        return res\n",
    "        "
   ],
   "id": "d960a437bc791859",
   "outputs": [],
   "execution_count": 5
  },
  {
   "metadata": {
    "ExecuteTime": {
     "end_time": "2025-02-06T07:24:05.910514Z",
     "start_time": "2025-02-06T07:24:05.845583Z"
    }
   },
   "cell_type": "code",
   "source": [
    "tensor = torch.rand(1, 32, 256, 256)\n",
    "block = SEBlock(32)\n",
    "output = block(tensor)\n",
    "output.shape"
   ],
   "id": "d8b55e456320b3e0",
   "outputs": [
    {
     "data": {
      "text/plain": [
       "torch.Size([1, 32, 256, 256])"
      ]
     },
     "execution_count": 6,
     "metadata": {},
     "output_type": "execute_result"
    }
   ],
   "execution_count": 6
  },
  {
   "metadata": {
    "ExecuteTime": {
     "end_time": "2025-02-06T07:39:29.883620Z",
     "start_time": "2025-02-06T07:39:29.875380Z"
    }
   },
   "cell_type": "code",
   "source": [
    "class SE_ResBlock(nn.Module):\n",
    "    def __init__(self, inputs, outputs, kernel, stride):\n",
    "        super().__init__()\n",
    "        \n",
    "        self.conv1 = nn.Sequential(\n",
    "            nn.Conv2d(inputs, outputs, kernel_size=kernel, stride=stride, padding=1),\n",
    "            nn.BatchNorm2d(outputs)\n",
    "        )\n",
    "        \n",
    "        self.conv2 = nn.Sequential(\n",
    "            nn.Conv2d(outputs, outputs, kernel_size=3, stride=1, padding=1),\n",
    "            nn.BatchNorm2d(outputs)\n",
    "        )\n",
    "        \n",
    "        if inputs != outputs:\n",
    "            self.add_conv = nn.Sequential(\n",
    "                nn.Conv2d(inputs, outputs, kernel_size=kernel, stride=stride, padding=1),\n",
    "                nn.BatchNorm2d(outputs)\n",
    "            )\n",
    "            \n",
    "            \n",
    "        self.se_block = SEBlock(outputs)\n",
    "        \n",
    "    def forward(self, x):\n",
    "        out = self.conv1(x)\n",
    "        add_out = self.add_conv(x)\n",
    "        \n",
    "        out = F.relu(out)\n",
    "        out = self.conv2(out)\n",
    "        \n",
    "        # apply attention mechanism with output of second convolutional layer \n",
    "        out = self.se_block(out)\n",
    "        out += add_out\n",
    "        \n",
    "        out = F.relu(out)\n",
    "        \n",
    "        return out\n",
    "        \n",
    "        "
   ],
   "id": "997ec74e35fdd978",
   "outputs": [],
   "execution_count": 31
  },
  {
   "metadata": {},
   "cell_type": "code",
   "outputs": [],
   "execution_count": null,
   "source": "",
   "id": "7aa6c2c052964fc2"
  },
  {
   "metadata": {
    "ExecuteTime": {
     "end_time": "2025-02-06T07:40:10.476581Z",
     "start_time": "2025-02-06T07:40:10.433543Z"
    }
   },
   "cell_type": "code",
   "source": [
    "tensor = torch.rand(1, 3, 256, 256)\n",
    "block = SE_ResBlock(3, 32, kernel=4, stride=2)\n",
    "\n",
    "output = block(tensor)\n",
    "output.shape"
   ],
   "id": "e734a72caf347624",
   "outputs": [
    {
     "data": {
      "text/plain": [
       "torch.Size([1, 32, 128, 128])"
      ]
     },
     "execution_count": 33,
     "metadata": {},
     "output_type": "execute_result"
    }
   ],
   "execution_count": 33
  }
 ],
 "metadata": {
  "kernelspec": {
   "display_name": "Python 3",
   "language": "python",
   "name": "python3"
  },
  "language_info": {
   "codemirror_mode": {
    "name": "ipython",
    "version": 2
   },
   "file_extension": ".py",
   "mimetype": "text/x-python",
   "name": "python",
   "nbconvert_exporter": "python",
   "pygments_lexer": "ipython2",
   "version": "2.7.6"
  }
 },
 "nbformat": 4,
 "nbformat_minor": 5
}
