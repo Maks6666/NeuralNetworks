{
 "metadata": {
  "kernelspec": {
   "language": "python",
   "display_name": "Python 3",
   "name": "python3"
  },
  "language_info": {
   "name": "python",
   "version": "3.11.11",
   "mimetype": "text/x-python",
   "codemirror_mode": {
    "name": "ipython",
    "version": 3
   },
   "pygments_lexer": "ipython3",
   "nbconvert_exporter": "python",
   "file_extension": ".py"
  },
  "kaggle": {
   "accelerator": "none",
   "dataSources": [],
   "dockerImageVersionId": 31040,
   "isInternetEnabled": true,
   "language": "python",
   "sourceType": "notebook",
   "isGpuEnabled": false
  }
 },
 "nbformat_minor": 4,
 "nbformat": 4,
 "cells": [
  {
   "cell_type": "markdown",
   "source": "![qkv_attention_formula-min.png](attachment:e1e85faf-d8e9-4a53-9492-b12e057078db.png)",
   "metadata": {},
   "attachments": {
    "e1e85faf-d8e9-4a53-9492-b12e057078db.png": {
     "image/png": "[encoded data removed]"
    }
   }
  },
  {
   "cell_type": "markdown",
   "source": "Self attention - is a memory mechanizm, which makes elements of data (it could be tokens of text or patches of images) to \"look\" on other ones and define, which of them is the most important for final representation. For example, let it be a matrix X with N elements and each element of which is describe by D vector, so X ∈ R^(N x D). Then we need to extracr three matrices from X: \n- Q (for \"query\") - matrix with elements, we should pay attention on\n- K (for \"keys\") - matrix with descriptions of elements, which are compared to Q-matrix\n- V (for \"values\") - matrix with elements, which will be handled.\n\nSo, (Q,K,V) ∈ R^(N×D).Then, we should put K into form of K ∈ R^(D×N) with reshaping. After that we couldmultiply matrices Q and K to let each element of Q to \"look\" on each element of \"K\". Thus we define which elements suit for query better. We also deivide this matrix on √D (vector of X matrix) to prevent gradient explosion. Then we apply softmax function for (Q * K) / √D to turn it into attention probability distribution for each patch or token. And finally, we multiply attention matrix on V (\"values\") matrix to aggregate contextual information from all elements in the V sequence (or patches in an image for example), weighted by their relevance (as determined by the attention matrix).\n\nFull formula is noted above.\n",
   "metadata": {}
  },
  {
   "cell_type": "code",
   "source": "import torch\nimport torch.nn as nn\nimport torch.nn.functional as F\n\nclass AttentionBlock(nn.Module):\n    def __init__(self, in_channels=3, patch_size=4, embed_dim=64, heads=1):\n        super().__init__()\n        \n        self.patch_size = patch_size\n        self.embed_dim = embed_dim\n        self.heads = heads\n\n        self.proj = nn.Conv2d(in_channels, embed_dim, kernel_size=patch_size, stride=patch_size)\n\n        self.to_q = nn.Linear(embed_dim, embed_dim)\n        self.to_k = nn.Linear(embed_dim, embed_dim)\n        self.to_v = nn.Linear(embed_dim, embed_dim)\n\n        self.to_out = nn.Linear(embed_dim, embed_dim)\n\n    def forward(self, x):\n        # x has size of [B, C, H, W]\n        x = self.proj(x)  \n    \n        x = x.flatten(2)  \n        # this will put x size into [B, C, H*W], so [B, C, N], where N = H * W\n        \n        x = x.transpose(1, 2) \n        # and this will put x of size [B, C, N] into [B, N, C]\n\n\n        # here we form Q, K and V matrixes\n        Q = self.to_q(x)      \n        K = self.to_k(x)      \n        V = self.to_v(x)      \n\n        # realisation of formula A(Q, K, V) = softmax((Q * K) / √D) * V\n        \n        d_k = Q.size(-1)\n        scores = torch.matmul(Q, K.transpose(-2, -1)) / (d_k ** 0.5) \n\n        attn = F.softmax(scores, dim=-1) \n\n        out = torch.matmul(attn, V) \n        \n        # and finally we may form output of size [B, N, C] (which lately could be transposed).\n        out = self.to_out(out)\n\n        return out\n",
   "metadata": {
    "_uuid": "8f2839f25d086af736a60e9eeb907d3b93b6e0e5",
    "_cell_guid": "b1076dfc-b9ad-4769-8c92-a6c4dae69d19",
    "trusted": true,
    "execution": {
     "iopub.status.busy": "2025-06-18T18:27:11.016700Z",
     "iopub.execute_input": "2025-06-18T18:27:11.017022Z",
     "iopub.status.idle": "2025-06-18T18:27:11.025128Z",
     "shell.execute_reply.started": "2025-06-18T18:27:11.016997Z",
     "shell.execute_reply": "2025-06-18T18:27:11.024137Z"
    },
    "ExecuteTime": {
     "end_time": "2025-07-05T10:59:05.058236Z",
     "start_time": "2025-07-05T10:59:05.046079Z"
    }
   },
   "outputs": [],
   "execution_count": 11
  },
  {
   "cell_type": "code",
   "source": "x = torch.randn(1, 3, 32, 32)\n\nmodel = AttentionBlock(in_channels=3, patch_size=4, embed_dim=64)\nout = model(x)  \nprint(out.shape)",
   "metadata": {
    "trusted": true,
    "execution": {
     "iopub.status.busy": "2025-06-18T18:28:41.033892Z",
     "iopub.execute_input": "2025-06-18T18:28:41.034222Z",
     "iopub.status.idle": "2025-06-18T18:28:41.043307Z",
     "shell.execute_reply.started": "2025-06-18T18:28:41.034199Z",
     "shell.execute_reply": "2025-06-18T18:28:41.042464Z"
    },
    "ExecuteTime": {
     "end_time": "2025-07-05T10:59:05.088730Z",
     "start_time": "2025-07-05T10:59:05.080646Z"
    }
   },
   "outputs": [
    {
     "name": "stdout",
     "output_type": "stream",
     "text": [
      "torch.Size([1, 64, 64])\n"
     ]
    }
   ],
   "execution_count": 12
  },
  {
   "cell_type": "code",
   "source": "# this is realisation of transposing of output of attention block, which then could be passed into \n# other layers \n\nmodel = AttentionBlock(in_channels=3, patch_size=4, embed_dim=64)\nout = model(x) \nout = out.transpose(1, 2).reshape(-1, 64, 8, 8)\nprint(out.shape)",
   "metadata": {
    "trusted": true,
    "execution": {
     "iopub.status.busy": "2025-06-18T18:28:42.225259Z",
     "iopub.execute_input": "2025-06-18T18:28:42.225550Z",
     "iopub.status.idle": "2025-06-18T18:28:42.233724Z",
     "shell.execute_reply.started": "2025-06-18T18:28:42.225528Z",
     "shell.execute_reply": "2025-06-18T18:28:42.233011Z"
    },
    "ExecuteTime": {
     "end_time": "2025-07-05T10:59:05.106612Z",
     "start_time": "2025-07-05T10:59:05.101193Z"
    }
   },
   "outputs": [
    {
     "name": "stdout",
     "output_type": "stream",
     "text": [
      "torch.Size([1, 64, 8, 8])\n"
     ]
    }
   ],
   "execution_count": 13
  },
  {
   "metadata": {
    "ExecuteTime": {
     "end_time": "2025-07-05T11:01:26.664050Z",
     "start_time": "2025-07-05T11:01:26.654466Z"
    }
   },
   "cell_type": "code",
   "source": [
    "# Non-linear realisation with residual elements:\n",
    "\n",
    "class ConvSABlock(nn.Module):\n",
    "    def __init__(self, in_channels):\n",
    "        super().__init__()\n",
    "        \n",
    "        self.q = nn.Conv2d(in_channels, in_channels//8, kernel_size=1)\n",
    "        self.k = nn.Conv2d(in_channels, in_channels//8, kernel_size=1)\n",
    "        self.v = nn.Conv2d(in_channels, in_channels, kernel_size=1)\n",
    "        \n",
    "        # parameter, which will be optimizer by NN \n",
    "        self.gamma = nn.Parameter(torch.zeros(1))\n",
    "    \n",
    "    def forward(self, x):\n",
    "        B, C, H, W = x.shape\n",
    "        \n",
    "        Q = self.q(x).view(B, -1, H*W).permute(0, 2, 1)  # B, C, N -> B, N, C\n",
    "        K = self.k(x).view(B, -1, H*W)   # B, C, N\n",
    "        V = self.v(x).view(B, -1, H*W).permute(0, 2, 1)  # B, C, N -> B, N, C\n",
    "        \n",
    "        d_k = Q.size(-1)\n",
    "        \n",
    "        attention = torch.bmm(Q, K) / d_k ** 0.5\n",
    "        attention = F.softmax(attention, dim=-1)\n",
    "        \n",
    "        out = torch.bmm(attention, V)\n",
    "        out = out.permute(0, 2, 1).view(B, C, H, W)\n",
    "        \n",
    "        # gamma represents, how we could relay on out of attention (out)\n",
    "        return self.gamma * out + x \n",
    "        \n",
    "        "
   ],
   "outputs": [],
   "execution_count": 20
  },
  {
   "metadata": {
    "ExecuteTime": {
     "end_time": "2025-07-05T11:01:29.791912Z",
     "start_time": "2025-07-05T11:01:29.781462Z"
    }
   },
   "cell_type": "code",
   "source": [
    "block = ConvSABlock(64)\n",
    "tensor = torch.randn(1, 64, 32, 32)\n",
    "\n",
    "out = block(tensor)\n",
    "print(out.shape)"
   ],
   "outputs": [
    {
     "name": "stdout",
     "output_type": "stream",
     "text": [
      "torch.Size([1, 64, 32, 32])\n"
     ]
    }
   ],
   "execution_count": 22
  }
 ]
}
