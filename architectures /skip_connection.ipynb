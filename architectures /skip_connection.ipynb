{
 "cells": [
  {
   "cell_type": "code",
   "id": "initial_id",
   "metadata": {
    "collapsed": true,
    "ExecuteTime": {
     "end_time": "2024-12-15T12:03:18.511372Z",
     "start_time": "2024-12-15T12:03:16.917492Z"
    }
   },
   "source": [
    "import torch \n",
    "from torch import nn \n",
    "import torch.nn.functional as F"
   ],
   "outputs": [],
   "execution_count": 1
  },
  {
   "metadata": {
    "ExecuteTime": {
     "end_time": "2024-12-15T12:03:46.881553Z",
     "start_time": "2024-12-15T12:03:46.875380Z"
    }
   },
   "cell_type": "code",
   "source": [
    "from platform import python_version \n",
    "python_version()"
   ],
   "id": "4b1261881a8c9fe0",
   "outputs": [
    {
     "data": {
      "text/plain": [
       "'3.9.6'"
      ]
     },
     "execution_count": 3,
     "metadata": {},
     "output_type": "execute_result"
    }
   ],
   "execution_count": 3
  },
  {
   "metadata": {
    "ExecuteTime": {
     "end_time": "2024-12-15T12:11:32.837190Z",
     "start_time": "2024-12-15T12:11:32.829830Z"
    }
   },
   "cell_type": "code",
   "source": [
    "class SkipBlock(nn.Module):\n",
    "    def __init__(self, in_channels, out_channels, pool = True):\n",
    "        super(SkipBlock, self).__init__()\n",
    "        \n",
    "        self.conv1 = nn.Conv2d(in_channels = in_channels, out_channels = out_channels, kernel_size=3, padding=1)\n",
    "        self.conv2 = nn.Conv2d(in_channels = out_channels, out_channels = out_channels, kernel_size=3, padding=1)\n",
    "        \n",
    "        if pool == True:\n",
    "            self.pool = nn.MaxPool2d(kernel_size=2, stride=2)\n",
    "        else:\n",
    "            self.pool = None\n",
    "            \n",
    "        \n",
    "        self.skip_conv = nn.Sequential()\n",
    "        \n",
    "        if in_channels != out_channels:\n",
    "            self.skip_conv = nn.Conv2d(in_channels = in_channels, out_channels = out_channels, kernel_size=3, padding=1)\n",
    "            \n",
    "    \n",
    "    def forward(self, x):\n",
    "        out = self.conv1(x)\n",
    "        add_out = self.skip_conv(x)\n",
    "        \n",
    "        out = F.relu(out)\n",
    "        \n",
    "        out = self.conv2(out)\n",
    "        \n",
    "        out += add_out\n",
    "        \n",
    "        if self.pool:\n",
    "            out = self.pool(out)\n",
    "        \n",
    "        out = F.relu(out)\n",
    "\n",
    "        return out        "
   ],
   "id": "561fc25eb44e3d0e",
   "outputs": [],
   "execution_count": 22
  },
  {
   "metadata": {
    "ExecuteTime": {
     "end_time": "2024-12-15T12:11:35.310948Z",
     "start_time": "2024-12-15T12:11:35.304718Z"
    }
   },
   "cell_type": "code",
   "source": [
    "tensor = torch.randn(3, 224, 224)\n",
    "tensor.shape"
   ],
   "id": "6bfb4627eebb0480",
   "outputs": [
    {
     "data": {
      "text/plain": [
       "torch.Size([3, 224, 224])"
      ]
     },
     "execution_count": 23,
     "metadata": {},
     "output_type": "execute_result"
    }
   ],
   "execution_count": 23
  },
  {
   "metadata": {
    "ExecuteTime": {
     "end_time": "2024-12-15T12:11:36.555756Z",
     "start_time": "2024-12-15T12:11:36.549923Z"
    }
   },
   "cell_type": "code",
   "source": [
    "block_1 = SkipBlock(in_channels = 3, out_channels = 32, pool = False)\n",
    "block_2 = SkipBlock(in_channels = 32, out_channels = 64, pool = True)"
   ],
   "id": "64bdd54a8cc21408",
   "outputs": [],
   "execution_count": 24
  },
  {
   "metadata": {
    "ExecuteTime": {
     "end_time": "2024-12-15T12:11:38.030912Z",
     "start_time": "2024-12-15T12:11:37.905016Z"
    }
   },
   "cell_type": "code",
   "source": [
    "out = block_1(tensor)\n",
    "out = block_2(out)\n",
    "out.shape"
   ],
   "id": "60890dc8512a94",
   "outputs": [
    {
     "data": {
      "text/plain": [
       "torch.Size([64, 112, 112])"
      ]
     },
     "execution_count": 25,
     "metadata": {},
     "output_type": "execute_result"
    }
   ],
   "execution_count": 25
  },
  {
   "metadata": {
    "ExecuteTime": {
     "end_time": "2024-12-15T12:46:49.735550Z",
     "start_time": "2024-12-15T12:46:49.679347Z"
    }
   },
   "cell_type": "code",
   "source": [
    "class LargeSkipBlock(nn.Module):\n",
    "    def __init__(self, in_channels, out_channels):\n",
    "        super(LargeSkipBlock, self).__init__()\n",
    "        \n",
    "        self.conv1 = nn.Conv2d(in_channels = in_channels, out_channels = out_channels, kernel_size=3, padding=1)\n",
    "        self.conv2 = nn.Conv2d(in_channels = out_channels, out_channels = out_channels, kernel_size=3, padding=1)\n",
    "        self.conv3 = nn.Conv2d(in_channels = out_channels, out_channels = out_channels, kernel_size=3, padding=1)\n",
    "        self.conv4 = nn.Conv2d(in_channels = out_channels, out_channels = out_channels, kernel_size=3, padding=1)\n",
    "        \n",
    "        self.pool = nn.MaxPool2d(kernel_size=2, stride=2)\n",
    "       \n",
    "        self.add_conv = nn.Sequential()\n",
    "        \n",
    "        if in_channels != out_channels:\n",
    "            self.add_conv = nn.Conv2d(in_channels = in_channels, out_channels = out_channels, kernel_size=3, padding=1)\n",
    "            \n",
    "    def forward(self, x):\n",
    "        out = self.conv1(x)\n",
    "        add_out = self.add_conv(x)\n",
    "        \n",
    "        out = F.relu(out)\n",
    "        \n",
    "        add_out = self.pool(add_out)\n",
    "        out = self.pool(out)\n",
    "        \n",
    "        out = self.conv2(out)\n",
    "        out = F.relu(out)\n",
    "        \n",
    "        out = self.conv3(out)\n",
    "        out = F.relu(out)\n",
    "        \n",
    "        add_out = self.pool(add_out)\n",
    "        out = self.pool(out)\n",
    "        \n",
    "        out = self.conv4(out)\n",
    "        out += add_out\n",
    "        \n",
    "        return out\n",
    "    "
   ],
   "id": "ac6b4b457f7e037c",
   "outputs": [
    {
     "data": {
      "text/plain": [
       "torch.Size([32, 56, 56])"
      ]
     },
     "execution_count": 47,
     "metadata": {},
     "output_type": "execute_result"
    }
   ],
   "execution_count": 47
  },
  {
   "metadata": {
    "ExecuteTime": {
     "end_time": "2024-12-15T12:49:08.401515Z",
     "start_time": "2024-12-15T12:49:08.394400Z"
    }
   },
   "cell_type": "code",
   "source": "tensor = torch.randn(3, 224, 224)",
   "id": "9c19c55b09a2d311",
   "outputs": [],
   "execution_count": 48
  },
  {
   "metadata": {
    "ExecuteTime": {
     "end_time": "2024-12-15T12:49:52.015869Z",
     "start_time": "2024-12-15T12:49:52.007431Z"
    }
   },
   "cell_type": "code",
   "source": "block = LargeSkipBlock(in_channels = 3, out_channels = 32)",
   "id": "22ac1c4ef33eb629",
   "outputs": [],
   "execution_count": 51
  },
  {
   "metadata": {
    "ExecuteTime": {
     "end_time": "2024-12-15T12:49:53.422427Z",
     "start_time": "2024-12-15T12:49:53.374752Z"
    }
   },
   "cell_type": "code",
   "source": [
    "out = block(tensor)\n",
    "out.shape"
   ],
   "id": "db2092d5f430fda3",
   "outputs": [
    {
     "data": {
      "text/plain": [
       "torch.Size([32, 56, 56])"
      ]
     },
     "execution_count": 52,
     "metadata": {},
     "output_type": "execute_result"
    }
   ],
   "execution_count": 52
  }
 ],
 "metadata": {
  "kernelspec": {
   "display_name": "Python 3",
   "language": "python",
   "name": "python3"
  },
  "language_info": {
   "codemirror_mode": {
    "name": "ipython",
    "version": 2
   },
   "file_extension": ".py",
   "mimetype": "text/x-python",
   "name": "python",
   "nbconvert_exporter": "python",
   "pygments_lexer": "ipython2",
   "version": "2.7.6"
  }
 },
 "nbformat": 4,
 "nbformat_minor": 5
}
