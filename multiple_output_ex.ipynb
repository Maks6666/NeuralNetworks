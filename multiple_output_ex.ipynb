{
 "cells": [
  {
   "cell_type": "code",
   "id": "initial_id",
   "metadata": {
    "collapsed": true,
    "ExecuteTime": {
     "end_time": "2024-09-04T18:44:53.126763Z",
     "start_time": "2024-09-04T18:44:53.112912Z"
    }
   },
   "source": [
    "import tensorflow as tf\n",
    "from dask.delayed import optimize\n",
    "from sympy.physics.units import action\n",
    "from tensorflow import keras \n",
    "from keras.models import Model\n",
    "import pandas as pd\n",
    "from sklearn.model_selection import train_test_split\n",
    "from keras.layers import Dense\n",
    "from keras.optimizers import Adam\n",
    "import matplotlib.pyplot as plt\n",
    "import numpy as np"
   ],
   "outputs": [],
   "execution_count": 64
  },
  {
   "metadata": {
    "ExecuteTime": {
     "end_time": "2024-09-04T17:16:54.020188Z",
     "start_time": "2024-09-04T17:16:54.017085Z"
    }
   },
   "cell_type": "code",
   "source": "tf",
   "id": "c60cf2bd51cc2c0c",
   "outputs": [
    {
     "data": {
      "text/plain": [
       "<module 'tensorflow' from '/opt/anaconda3/lib/python3.11/site-packages/tensorflow/__init__.py'>"
      ]
     },
     "execution_count": 15,
     "metadata": {},
     "output_type": "execute_result"
    }
   ],
   "execution_count": 15
  },
  {
   "metadata": {
    "ExecuteTime": {
     "end_time": "2024-09-04T18:34:29.074770Z",
     "start_time": "2024-09-04T18:34:29.065965Z"
    }
   },
   "cell_type": "code",
   "source": [
    "data = {\n",
    "    'X1': [0.5, 2.0, 1.5, 3.0, 0.0, 4.0, 3.5, 0.0, 2.5, 1.0],\n",
    "    'X2': [1.0, 3.0, 2.5, 4.0, 0.5, 1.5, 2.0, 2.0, 3.5, 0.0],\n",
    "    'Y1': [1.5, 5.0, 4.0, 7.0, 0.5, 5.5, 5.5, 2.0, 6.0, 1.0],\n",
    "    'Y2': [-0.5, -1.0, -1.0, -1.0, -0.5, 2.5, 1.5, -2.0, -1.0, 1.0]\n",
    "}\n",
    "\n",
    "# Создаем DataFrame\n",
    "data = pd.DataFrame(data)\n",
    "data"
   ],
   "id": "93c55b5230f9f943",
   "outputs": [
    {
     "data": {
      "text/plain": [
       "    X1   X2   Y1   Y2\n",
       "0  0.5  1.0  1.5 -0.5\n",
       "1  2.0  3.0  5.0 -1.0\n",
       "2  1.5  2.5  4.0 -1.0\n",
       "3  3.0  4.0  7.0 -1.0\n",
       "4  0.0  0.5  0.5 -0.5\n",
       "5  4.0  1.5  5.5  2.5\n",
       "6  3.5  2.0  5.5  1.5\n",
       "7  0.0  2.0  2.0 -2.0\n",
       "8  2.5  3.5  6.0 -1.0\n",
       "9  1.0  0.0  1.0  1.0"
      ],
      "text/html": [
       "<div>\n",
       "<style scoped>\n",
       "    .dataframe tbody tr th:only-of-type {\n",
       "        vertical-align: middle;\n",
       "    }\n",
       "\n",
       "    .dataframe tbody tr th {\n",
       "        vertical-align: top;\n",
       "    }\n",
       "\n",
       "    .dataframe thead th {\n",
       "        text-align: right;\n",
       "    }\n",
       "</style>\n",
       "<table border=\"1\" class=\"dataframe\">\n",
       "  <thead>\n",
       "    <tr style=\"text-align: right;\">\n",
       "      <th></th>\n",
       "      <th>X1</th>\n",
       "      <th>X2</th>\n",
       "      <th>Y1</th>\n",
       "      <th>Y2</th>\n",
       "    </tr>\n",
       "  </thead>\n",
       "  <tbody>\n",
       "    <tr>\n",
       "      <th>0</th>\n",
       "      <td>0.5</td>\n",
       "      <td>1.0</td>\n",
       "      <td>1.5</td>\n",
       "      <td>-0.5</td>\n",
       "    </tr>\n",
       "    <tr>\n",
       "      <th>1</th>\n",
       "      <td>2.0</td>\n",
       "      <td>3.0</td>\n",
       "      <td>5.0</td>\n",
       "      <td>-1.0</td>\n",
       "    </tr>\n",
       "    <tr>\n",
       "      <th>2</th>\n",
       "      <td>1.5</td>\n",
       "      <td>2.5</td>\n",
       "      <td>4.0</td>\n",
       "      <td>-1.0</td>\n",
       "    </tr>\n",
       "    <tr>\n",
       "      <th>3</th>\n",
       "      <td>3.0</td>\n",
       "      <td>4.0</td>\n",
       "      <td>7.0</td>\n",
       "      <td>-1.0</td>\n",
       "    </tr>\n",
       "    <tr>\n",
       "      <th>4</th>\n",
       "      <td>0.0</td>\n",
       "      <td>0.5</td>\n",
       "      <td>0.5</td>\n",
       "      <td>-0.5</td>\n",
       "    </tr>\n",
       "    <tr>\n",
       "      <th>5</th>\n",
       "      <td>4.0</td>\n",
       "      <td>1.5</td>\n",
       "      <td>5.5</td>\n",
       "      <td>2.5</td>\n",
       "    </tr>\n",
       "    <tr>\n",
       "      <th>6</th>\n",
       "      <td>3.5</td>\n",
       "      <td>2.0</td>\n",
       "      <td>5.5</td>\n",
       "      <td>1.5</td>\n",
       "    </tr>\n",
       "    <tr>\n",
       "      <th>7</th>\n",
       "      <td>0.0</td>\n",
       "      <td>2.0</td>\n",
       "      <td>2.0</td>\n",
       "      <td>-2.0</td>\n",
       "    </tr>\n",
       "    <tr>\n",
       "      <th>8</th>\n",
       "      <td>2.5</td>\n",
       "      <td>3.5</td>\n",
       "      <td>6.0</td>\n",
       "      <td>-1.0</td>\n",
       "    </tr>\n",
       "    <tr>\n",
       "      <th>9</th>\n",
       "      <td>1.0</td>\n",
       "      <td>0.0</td>\n",
       "      <td>1.0</td>\n",
       "      <td>1.0</td>\n",
       "    </tr>\n",
       "  </tbody>\n",
       "</table>\n",
       "</div>"
      ]
     },
     "execution_count": 35,
     "metadata": {},
     "output_type": "execute_result"
    }
   ],
   "execution_count": 35
  },
  {
   "metadata": {
    "ExecuteTime": {
     "end_time": "2024-09-04T18:34:31.911023Z",
     "start_time": "2024-09-04T18:34:31.907862Z"
    }
   },
   "cell_type": "code",
   "source": [
    "# To build multiple-output model it is important to devide data this way\n",
    "\n",
    "x = data.drop([\"Y1\", \"Y2\"], axis=\"columns\")\n",
    "y1 = data['Y1'].values\n",
    "y2 = data['Y2'].values"
   ],
   "id": "3d927e6e50eba46",
   "outputs": [],
   "execution_count": 36
  },
  {
   "metadata": {
    "ExecuteTime": {
     "end_time": "2024-09-04T18:34:33.743221Z",
     "start_time": "2024-09-04T18:34:33.738683Z"
    }
   },
   "cell_type": "code",
   "source": [
    "#You also need to split it this way\n",
    "\n",
    "x_train, x_test, y_train_1, y_test_1 = train_test_split(x, y1, test_size=0.2, random_state=42)\n",
    "x_train, x_test, y_train_2, y_test_2 = train_test_split(x, y2, test_size=0.2, random_state=42)\n"
   ],
   "id": "ba41f69a4a9c100b",
   "outputs": [],
   "execution_count": 37
  },
  {
   "metadata": {
    "ExecuteTime": {
     "end_time": "2024-09-04T18:44:09.763264Z",
     "start_time": "2024-09-04T18:44:09.705091Z"
    }
   },
   "cell_type": "code",
   "source": [
    "\n",
    "inputs = tf.keras.Input(shape = (2, ))\n",
    "\n",
    "x = Dense(12, activation=\"relu\")(inputs)\n",
    "x = Dense(8, activation=\"relu\")(x)\n",
    "x = Dense(4, activation=\"relu\")(x)\n",
    "\n",
    "# Two outputs\n",
    "y_1 = Dense(1, activation=\"linear\", name=\"pred1\")(x)\n",
    "y_2 = Dense(1, activation=\"linear\", name=\"pred2\")(x)\n",
    "\n",
    "model = Model(inputs=inputs, outputs=[y_1, y_2])\n",
    "\n",
    "model.compile(optimizer=Adam(learning_rate=1e-2),\n",
    "              loss={\"pred1\": \"mse\", \"pred2\": \"mse\"},\n",
    "              metrics = {\"pred1\": \"mae\", \"pred2\": \"mae\"})"
   ],
   "id": "e1777adc7602406c",
   "outputs": [],
   "execution_count": 57
  },
  {
   "metadata": {
    "ExecuteTime": {
     "end_time": "2024-09-04T18:42:16.984100Z",
     "start_time": "2024-09-04T18:42:16.978175Z"
    }
   },
   "cell_type": "code",
   "source": "y_train",
   "id": "b54ccdc4422ad7cd",
   "outputs": [
    {
     "data": {
      "text/plain": [
       "    Y1   Y2\n",
       "7  2.0 -2.0\n",
       "6  5.5  1.5\n",
       "0  1.5 -0.5\n",
       "4  0.5 -0.5\n",
       "8  6.0 -1.0\n",
       "1  5.0 -1.0\n",
       "3  7.0 -1.0\n",
       "5  5.5  2.5"
      ],
      "text/html": [
       "<div>\n",
       "<style scoped>\n",
       "    .dataframe tbody tr th:only-of-type {\n",
       "        vertical-align: middle;\n",
       "    }\n",
       "\n",
       "    .dataframe tbody tr th {\n",
       "        vertical-align: top;\n",
       "    }\n",
       "\n",
       "    .dataframe thead th {\n",
       "        text-align: right;\n",
       "    }\n",
       "</style>\n",
       "<table border=\"1\" class=\"dataframe\">\n",
       "  <thead>\n",
       "    <tr style=\"text-align: right;\">\n",
       "      <th></th>\n",
       "      <th>Y1</th>\n",
       "      <th>Y2</th>\n",
       "    </tr>\n",
       "  </thead>\n",
       "  <tbody>\n",
       "    <tr>\n",
       "      <th>7</th>\n",
       "      <td>2.0</td>\n",
       "      <td>-2.0</td>\n",
       "    </tr>\n",
       "    <tr>\n",
       "      <th>6</th>\n",
       "      <td>5.5</td>\n",
       "      <td>1.5</td>\n",
       "    </tr>\n",
       "    <tr>\n",
       "      <th>0</th>\n",
       "      <td>1.5</td>\n",
       "      <td>-0.5</td>\n",
       "    </tr>\n",
       "    <tr>\n",
       "      <th>4</th>\n",
       "      <td>0.5</td>\n",
       "      <td>-0.5</td>\n",
       "    </tr>\n",
       "    <tr>\n",
       "      <th>8</th>\n",
       "      <td>6.0</td>\n",
       "      <td>-1.0</td>\n",
       "    </tr>\n",
       "    <tr>\n",
       "      <th>1</th>\n",
       "      <td>5.0</td>\n",
       "      <td>-1.0</td>\n",
       "    </tr>\n",
       "    <tr>\n",
       "      <th>3</th>\n",
       "      <td>7.0</td>\n",
       "      <td>-1.0</td>\n",
       "    </tr>\n",
       "    <tr>\n",
       "      <th>5</th>\n",
       "      <td>5.5</td>\n",
       "      <td>2.5</td>\n",
       "    </tr>\n",
       "  </tbody>\n",
       "</table>\n",
       "</div>"
      ]
     },
     "execution_count": 51,
     "metadata": {},
     "output_type": "execute_result"
    }
   ],
   "execution_count": 51
  },
  {
   "metadata": {
    "ExecuteTime": {
     "end_time": "2024-09-04T18:44:14.991259Z",
     "start_time": "2024-09-04T18:44:11.654904Z"
    }
   },
   "cell_type": "code",
   "source": [
    "# Important to fit data this way_\n",
    "history = model.fit(x_train, {\"pred1\": y_train_1, \"pred2\": y_train_2}, epochs=100, validation_split=0.2)"
   ],
   "id": "9e8965b02024fd61",
   "outputs": [
    {
     "name": "stdout",
     "output_type": "stream",
     "text": [
      "Epoch 1/100\n",
      "\u001B[1m1/1\u001B[0m \u001B[32m━━━━━━━━━━━━━━━━━━━━\u001B[0m\u001B[37m\u001B[0m \u001B[1m1s\u001B[0m 968ms/step - loss: 9.4712 - pred1_mae: 2.1302 - pred2_mae: 1.2120 - val_loss: 34.9822 - val_pred1_mae: 5.7584 - val_pred2_mae: 1.1339\n",
      "Epoch 2/100\n",
      "\u001B[1m1/1\u001B[0m \u001B[32m━━━━━━━━━━━━━━━━━━━━\u001B[0m\u001B[37m\u001B[0m \u001B[1m0s\u001B[0m 20ms/step - loss: 8.5366 - pred1_mae: 1.9595 - pred2_mae: 1.1619 - val_loss: 31.3914 - val_pred1_mae: 5.4651 - val_pred2_mae: 1.0586\n",
      "Epoch 3/100\n",
      "\u001B[1m1/1\u001B[0m \u001B[32m━━━━━━━━━━━━━━━━━━━━\u001B[0m\u001B[37m\u001B[0m \u001B[1m0s\u001B[0m 20ms/step - loss: 7.3576 - pred1_mae: 1.7328 - pred2_mae: 1.1174 - val_loss: 26.3714 - val_pred1_mae: 5.0044 - val_pred2_mae: 1.0120\n",
      "Epoch 4/100\n",
      "\u001B[1m1/1\u001B[0m \u001B[32m━━━━━━━━━━━━━━━━━━━━\u001B[0m\u001B[37m\u001B[0m \u001B[1m0s\u001B[0m 20ms/step - loss: 6.1669 - pred1_mae: 1.5101 - pred2_mae: 1.0714 - val_loss: 20.3472 - val_pred1_mae: 4.3794 - val_pred2_mae: 0.9585\n",
      "Epoch 5/100\n",
      "\u001B[1m1/1\u001B[0m \u001B[32m━━━━━━━━━━━━━━━━━━━━\u001B[0m\u001B[37m\u001B[0m \u001B[1m0s\u001B[0m 20ms/step - loss: 5.0238 - pred1_mae: 1.2872 - pred2_mae: 1.0249 - val_loss: 14.8493 - val_pred1_mae: 3.7175 - val_pred2_mae: 0.9038\n",
      "Epoch 6/100\n",
      "\u001B[1m1/1\u001B[0m \u001B[32m━━━━━━━━━━━━━━━━━━━━\u001B[0m\u001B[37m\u001B[0m \u001B[1m0s\u001B[0m 21ms/step - loss: 3.7564 - pred1_mae: 1.0701 - pred2_mae: 0.9759 - val_loss: 9.7992 - val_pred1_mae: 2.9812 - val_pred2_mae: 0.8642\n",
      "Epoch 7/100\n",
      "\u001B[1m1/1\u001B[0m \u001B[32m━━━━━━━━━━━━━━━━━━━━\u001B[0m\u001B[37m\u001B[0m \u001B[1m0s\u001B[0m 20ms/step - loss: 2.7482 - pred1_mae: 0.8861 - pred2_mae: 0.9317 - val_loss: 5.5889 - val_pred1_mae: 2.1883 - val_pred2_mae: 0.8246\n",
      "Epoch 8/100\n",
      "\u001B[1m1/1\u001B[0m \u001B[32m━━━━━━━━━━━━━━━━━━━━\u001B[0m\u001B[37m\u001B[0m \u001B[1m0s\u001B[0m 20ms/step - loss: 2.0356 - pred1_mae: 0.8183 - pred2_mae: 0.8963 - val_loss: 2.4238 - val_pred1_mae: 1.3229 - val_pred2_mae: 0.7808\n",
      "Epoch 9/100\n",
      "\u001B[1m1/1\u001B[0m \u001B[32m━━━━━━━━━━━━━━━━━━━━\u001B[0m\u001B[37m\u001B[0m \u001B[1m0s\u001B[0m 20ms/step - loss: 1.7338 - pred1_mae: 0.7689 - pred2_mae: 0.8594 - val_loss: 0.8715 - val_pred1_mae: 0.4811 - val_pred2_mae: 0.7633\n",
      "Epoch 10/100\n",
      "\u001B[1m1/1\u001B[0m \u001B[32m━━━━━━━━━━━━━━━━━━━━\u001B[0m\u001B[37m\u001B[0m \u001B[1m0s\u001B[0m 20ms/step - loss: 1.7834 - pred1_mae: 0.8056 - pred2_mae: 0.8224 - val_loss: 0.6597 - val_pred1_mae: 0.1952 - val_pred2_mae: 0.7523\n",
      "Epoch 11/100\n",
      "\u001B[1m1/1\u001B[0m \u001B[32m━━━━━━━━━━━━━━━━━━━━\u001B[0m\u001B[37m\u001B[0m \u001B[1m0s\u001B[0m 21ms/step - loss: 1.9842 - pred1_mae: 0.9739 - pred2_mae: 0.7878 - val_loss: 0.9909 - val_pred1_mae: 0.6176 - val_pred2_mae: 0.7431\n",
      "Epoch 12/100\n",
      "\u001B[1m1/1\u001B[0m \u001B[32m━━━━━━━━━━━━━━━━━━━━\u001B[0m\u001B[37m\u001B[0m \u001B[1m0s\u001B[0m 21ms/step - loss: 2.1167 - pred1_mae: 1.1089 - pred2_mae: 0.7589 - val_loss: 1.2418 - val_pred1_mae: 0.8002 - val_pred2_mae: 0.7328\n",
      "Epoch 13/100\n",
      "\u001B[1m1/1\u001B[0m \u001B[32m━━━━━━━━━━━━━━━━━━━━\u001B[0m\u001B[37m\u001B[0m \u001B[1m0s\u001B[0m 20ms/step - loss: 2.1024 - pred1_mae: 1.1368 - pred2_mae: 0.7395 - val_loss: 1.1975 - val_pred1_mae: 0.7928 - val_pred2_mae: 0.7135\n",
      "Epoch 14/100\n",
      "\u001B[1m1/1\u001B[0m \u001B[32m━━━━━━━━━━━━━━━━━━━━\u001B[0m\u001B[37m\u001B[0m \u001B[1m0s\u001B[0m 22ms/step - loss: 1.9029 - pred1_mae: 1.0717 - pred2_mae: 0.7196 - val_loss: 0.9485 - val_pred1_mae: 0.6346 - val_pred2_mae: 0.6903\n",
      "Epoch 15/100\n",
      "\u001B[1m1/1\u001B[0m \u001B[32m━━━━━━━━━━━━━━━━━━━━\u001B[0m\u001B[37m\u001B[0m \u001B[1m0s\u001B[0m 22ms/step - loss: 1.6172 - pred1_mae: 0.9556 - pred2_mae: 0.6984 - val_loss: 0.6702 - val_pred1_mae: 0.3733 - val_pred2_mae: 0.6634\n",
      "Epoch 16/100\n",
      "\u001B[1m1/1\u001B[0m \u001B[32m━━━━━━━━━━━━━━━━━━━━\u001B[0m\u001B[37m\u001B[0m \u001B[1m0s\u001B[0m 20ms/step - loss: 1.3087 - pred1_mae: 0.8046 - pred2_mae: 0.6746 - val_loss: 0.5248 - val_pred1_mae: 0.3343 - val_pred2_mae: 0.6332\n",
      "Epoch 17/100\n",
      "\u001B[1m1/1\u001B[0m \u001B[32m━━━━━━━━━━━━━━━━━━━━\u001B[0m\u001B[37m\u001B[0m \u001B[1m0s\u001B[0m 20ms/step - loss: 1.0310 - pred1_mae: 0.6333 - pred2_mae: 0.6481 - val_loss: 0.5954 - val_pred1_mae: 0.3704 - val_pred2_mae: 0.5994\n",
      "Epoch 18/100\n",
      "\u001B[1m1/1\u001B[0m \u001B[32m━━━━━━━━━━━━━━━━━━━━\u001B[0m\u001B[37m\u001B[0m \u001B[1m0s\u001B[0m 20ms/step - loss: 0.8196 - pred1_mae: 0.4956 - pred2_mae: 0.6193 - val_loss: 0.8778 - val_pred1_mae: 0.6057 - val_pred2_mae: 0.5633\n",
      "Epoch 19/100\n",
      "\u001B[1m1/1\u001B[0m \u001B[32m━━━━━━━━━━━━━━━━━━━━\u001B[0m\u001B[37m\u001B[0m \u001B[1m0s\u001B[0m 21ms/step - loss: 0.6900 - pred1_mae: 0.4133 - pred2_mae: 0.5901 - val_loss: 1.3029 - val_pred1_mae: 0.8931 - val_pred2_mae: 0.5248\n",
      "Epoch 20/100\n",
      "\u001B[1m1/1\u001B[0m \u001B[32m━━━━━━━━━━━━━━━━━━━━\u001B[0m\u001B[37m\u001B[0m \u001B[1m0s\u001B[0m 21ms/step - loss: 0.6266 - pred1_mae: 0.4176 - pred2_mae: 0.5580 - val_loss: 1.7801 - val_pred1_mae: 1.1327 - val_pred2_mae: 0.4838\n",
      "Epoch 21/100\n",
      "\u001B[1m1/1\u001B[0m \u001B[32m━━━━━━━━━━━━━━━━━━━━\u001B[0m\u001B[37m\u001B[0m \u001B[1m0s\u001B[0m 20ms/step - loss: 0.6054 - pred1_mae: 0.4217 - pred2_mae: 0.5225 - val_loss: 2.2194 - val_pred1_mae: 1.3171 - val_pred2_mae: 0.4406\n",
      "Epoch 22/100\n",
      "\u001B[1m1/1\u001B[0m \u001B[32m━━━━━━━━━━━━━━━━━━━━\u001B[0m\u001B[37m\u001B[0m \u001B[1m0s\u001B[0m 26ms/step - loss: 0.6042 - pred1_mae: 0.4233 - pred2_mae: 0.4838 - val_loss: 2.5492 - val_pred1_mae: 1.4427 - val_pred2_mae: 0.3955\n",
      "Epoch 23/100\n",
      "\u001B[1m1/1\u001B[0m \u001B[32m━━━━━━━━━━━━━━━━━━━━\u001B[0m\u001B[37m\u001B[0m \u001B[1m0s\u001B[0m 19ms/step - loss: 0.6036 - pred1_mae: 0.4345 - pred2_mae: 0.4422 - val_loss: 2.7159 - val_pred1_mae: 1.5067 - val_pred2_mae: 0.3492\n",
      "Epoch 24/100\n",
      "\u001B[1m1/1\u001B[0m \u001B[32m━━━━━━━━━━━━━━━━━━━━\u001B[0m\u001B[37m\u001B[0m \u001B[1m0s\u001B[0m 19ms/step - loss: 0.5893 - pred1_mae: 0.4484 - pred2_mae: 0.3976 - val_loss: 2.7046 - val_pred1_mae: 1.5119 - val_pred2_mae: 0.3022\n",
      "Epoch 25/100\n",
      "\u001B[1m1/1\u001B[0m \u001B[32m━━━━━━━━━━━━━━━━━━━━\u001B[0m\u001B[37m\u001B[0m \u001B[1m0s\u001B[0m 21ms/step - loss: 0.5558 - pred1_mae: 0.4545 - pred2_mae: 0.3507 - val_loss: 2.5260 - val_pred1_mae: 1.4625 - val_pred2_mae: 0.2896\n",
      "Epoch 26/100\n",
      "\u001B[1m1/1\u001B[0m \u001B[32m━━━━━━━━━━━━━━━━━━━━\u001B[0m\u001B[37m\u001B[0m \u001B[1m0s\u001B[0m 21ms/step - loss: 0.5024 - pred1_mae: 0.4444 - pred2_mae: 0.3018 - val_loss: 2.2123 - val_pred1_mae: 1.3644 - val_pred2_mae: 0.2745\n",
      "Epoch 27/100\n",
      "\u001B[1m1/1\u001B[0m \u001B[32m━━━━━━━━━━━━━━━━━━━━\u001B[0m\u001B[37m\u001B[0m \u001B[1m0s\u001B[0m 20ms/step - loss: 0.4343 - pred1_mae: 0.4197 - pred2_mae: 0.2530 - val_loss: 1.8102 - val_pred1_mae: 1.2245 - val_pred2_mae: 0.2482\n",
      "Epoch 28/100\n",
      "\u001B[1m1/1\u001B[0m \u001B[32m━━━━━━━━━━━━━━━━━━━━\u001B[0m\u001B[37m\u001B[0m \u001B[1m0s\u001B[0m 22ms/step - loss: 0.3605 - pred1_mae: 0.3830 - pred2_mae: 0.2352 - val_loss: 1.3703 - val_pred1_mae: 1.0495 - val_pred2_mae: 0.2084\n",
      "Epoch 29/100\n",
      "\u001B[1m1/1\u001B[0m \u001B[32m━━━━━━━━━━━━━━━━━━━━\u001B[0m\u001B[37m\u001B[0m \u001B[1m0s\u001B[0m 20ms/step - loss: 0.2849 - pred1_mae: 0.3350 - pred2_mae: 0.2281 - val_loss: 0.9446 - val_pred1_mae: 0.8468 - val_pred2_mae: 0.1505\n",
      "Epoch 30/100\n",
      "\u001B[1m1/1\u001B[0m \u001B[32m━━━━━━━━━━━━━━━━━━━━\u001B[0m\u001B[37m\u001B[0m \u001B[1m0s\u001B[0m 21ms/step - loss: 0.2213 - pred1_mae: 0.2969 - pred2_mae: 0.2150 - val_loss: 0.5904 - val_pred1_mae: 0.6301 - val_pred2_mae: 0.0783\n",
      "Epoch 31/100\n",
      "\u001B[1m1/1\u001B[0m \u001B[32m━━━━━━━━━━━━━━━━━━━━\u001B[0m\u001B[37m\u001B[0m \u001B[1m0s\u001B[0m 23ms/step - loss: 0.1816 - pred1_mae: 0.2654 - pred2_mae: 0.1984 - val_loss: 0.3458 - val_pred1_mae: 0.4177 - val_pred2_mae: 0.0038\n",
      "Epoch 32/100\n",
      "\u001B[1m1/1\u001B[0m \u001B[32m━━━━━━━━━━━━━━━━━━━━\u001B[0m\u001B[37m\u001B[0m \u001B[1m0s\u001B[0m 21ms/step - loss: 0.1692 - pred1_mae: 0.2934 - pred2_mae: 0.2058 - val_loss: 0.2143 - val_pred1_mae: 0.3946 - val_pred2_mae: 0.0759\n",
      "Epoch 33/100\n",
      "\u001B[1m1/1\u001B[0m \u001B[32m━━━━━━━━━━━━━━━━━━━━\u001B[0m\u001B[37m\u001B[0m \u001B[1m0s\u001B[0m 20ms/step - loss: 0.1804 - pred1_mae: 0.3250 - pred2_mae: 0.2150 - val_loss: 0.1692 - val_pred1_mae: 0.3734 - val_pred2_mae: 0.1367\n",
      "Epoch 34/100\n",
      "\u001B[1m1/1\u001B[0m \u001B[32m━━━━━━━━━━━━━━━━━━━━\u001B[0m\u001B[37m\u001B[0m \u001B[1m0s\u001B[0m 22ms/step - loss: 0.2023 - pred1_mae: 0.3468 - pred2_mae: 0.2244 - val_loss: 0.1659 - val_pred1_mae: 0.3510 - val_pred2_mae: 0.1740\n",
      "Epoch 35/100\n",
      "\u001B[1m1/1\u001B[0m \u001B[32m━━━━━━━━━━━━━━━━━━━━\u001B[0m\u001B[37m\u001B[0m \u001B[1m0s\u001B[0m 22ms/step - loss: 0.2190 - pred1_mae: 0.3555 - pred2_mae: 0.2329 - val_loss: 0.1664 - val_pred1_mae: 0.3283 - val_pred2_mae: 0.1844\n",
      "Epoch 36/100\n",
      "\u001B[1m1/1\u001B[0m \u001B[32m━━━━━━━━━━━━━━━━━━━━\u001B[0m\u001B[37m\u001B[0m \u001B[1m0s\u001B[0m 24ms/step - loss: 0.2207 - pred1_mae: 0.3505 - pred2_mae: 0.2406 - val_loss: 0.1561 - val_pred1_mae: 0.3067 - val_pred2_mae: 0.1729\n",
      "Epoch 37/100\n",
      "\u001B[1m1/1\u001B[0m \u001B[32m━━━━━━━━━━━━━━━━━━━━\u001B[0m\u001B[37m\u001B[0m \u001B[1m0s\u001B[0m 22ms/step - loss: 0.2108 - pred1_mae: 0.3354 - pred2_mae: 0.2488 - val_loss: 0.1393 - val_pred1_mae: 0.2866 - val_pred2_mae: 0.1899\n",
      "Epoch 38/100\n",
      "\u001B[1m1/1\u001B[0m \u001B[32m━━━━━━━━━━━━━━━━━━━━\u001B[0m\u001B[37m\u001B[0m \u001B[1m0s\u001B[0m 20ms/step - loss: 0.1911 - pred1_mae: 0.3109 - pred2_mae: 0.2559 - val_loss: 0.1308 - val_pred1_mae: 0.2683 - val_pred2_mae: 0.2068\n",
      "Epoch 39/100\n",
      "\u001B[1m1/1\u001B[0m \u001B[32m━━━━━━━━━━━━━━━━━━━━\u001B[0m\u001B[37m\u001B[0m \u001B[1m0s\u001B[0m 19ms/step - loss: 0.1701 - pred1_mae: 0.2799 - pred2_mae: 0.2625 - val_loss: 0.1429 - val_pred1_mae: 0.2523 - val_pred2_mae: 0.2168\n",
      "Epoch 40/100\n",
      "\u001B[1m1/1\u001B[0m \u001B[32m━━━━━━━━━━━━━━━━━━━━\u001B[0m\u001B[37m\u001B[0m \u001B[1m0s\u001B[0m 21ms/step - loss: 0.1527 - pred1_mae: 0.2456 - pred2_mae: 0.2667 - val_loss: 0.1769 - val_pred1_mae: 0.2641 - val_pred2_mae: 0.2193\n",
      "Epoch 41/100\n",
      "\u001B[1m1/1\u001B[0m \u001B[32m━━━━━━━━━━━━━━━━━━━━\u001B[0m\u001B[37m\u001B[0m \u001B[1m0s\u001B[0m 21ms/step - loss: 0.1411 - pred1_mae: 0.2112 - pred2_mae: 0.2676 - val_loss: 0.2235 - val_pred1_mae: 0.3531 - val_pred2_mae: 0.2144\n",
      "Epoch 42/100\n",
      "\u001B[1m1/1\u001B[0m \u001B[32m━━━━━━━━━━━━━━━━━━━━\u001B[0m\u001B[37m\u001B[0m \u001B[1m0s\u001B[0m 21ms/step - loss: 0.1340 - pred1_mae: 0.1990 - pred2_mae: 0.2648 - val_loss: 0.2683 - val_pred1_mae: 0.4222 - val_pred2_mae: 0.2024\n",
      "Epoch 43/100\n",
      "\u001B[1m1/1\u001B[0m \u001B[32m━━━━━━━━━━━━━━━━━━━━\u001B[0m\u001B[37m\u001B[0m \u001B[1m0s\u001B[0m 20ms/step - loss: 0.1284 - pred1_mae: 0.2020 - pred2_mae: 0.2581 - val_loss: 0.2987 - val_pred1_mae: 0.4656 - val_pred2_mae: 0.1844\n",
      "Epoch 44/100\n",
      "\u001B[1m1/1\u001B[0m \u001B[32m━━━━━━━━━━━━━━━━━━━━\u001B[0m\u001B[37m\u001B[0m \u001B[1m0s\u001B[0m 19ms/step - loss: 0.1217 - pred1_mae: 0.2009 - pred2_mae: 0.2478 - val_loss: 0.3075 - val_pred1_mae: 0.4809 - val_pred2_mae: 0.1616\n",
      "Epoch 45/100\n",
      "\u001B[1m1/1\u001B[0m \u001B[32m━━━━━━━━━━━━━━━━━━━━\u001B[0m\u001B[37m\u001B[0m \u001B[1m0s\u001B[0m 20ms/step - loss: 0.1126 - pred1_mae: 0.1956 - pred2_mae: 0.2344 - val_loss: 0.2940 - val_pred1_mae: 0.4682 - val_pred2_mae: 0.1382\n",
      "Epoch 46/100\n",
      "\u001B[1m1/1\u001B[0m \u001B[32m━━━━━━━━━━━━━━━━━━━━\u001B[0m\u001B[37m\u001B[0m \u001B[1m0s\u001B[0m 21ms/step - loss: 0.1015 - pred1_mae: 0.1865 - pred2_mae: 0.2186 - val_loss: 0.2620 - val_pred1_mae: 0.4310 - val_pred2_mae: 0.1635\n",
      "Epoch 47/100\n",
      "\u001B[1m1/1\u001B[0m \u001B[32m━━━━━━━━━━━━━━━━━━━━\u001B[0m\u001B[37m\u001B[0m \u001B[1m0s\u001B[0m 114ms/step - loss: 0.0894 - pred1_mae: 0.1742 - pred2_mae: 0.2011 - val_loss: 0.2183 - val_pred1_mae: 0.3745 - val_pred2_mae: 0.1904\n",
      "Epoch 48/100\n",
      "\u001B[1m1/1\u001B[0m \u001B[32m━━━━━━━━━━━━━━━━━━━━\u001B[0m\u001B[37m\u001B[0m \u001B[1m0s\u001B[0m 26ms/step - loss: 0.0782 - pred1_mae: 0.1598 - pred2_mae: 0.1833 - val_loss: 0.1700 - val_pred1_mae: 0.3059 - val_pred2_mae: 0.2031\n",
      "Epoch 49/100\n",
      "\u001B[1m1/1\u001B[0m \u001B[32m━━━━━━━━━━━━━━━━━━━━\u001B[0m\u001B[37m\u001B[0m \u001B[1m0s\u001B[0m 21ms/step - loss: 0.0697 - pred1_mae: 0.1452 - pred2_mae: 0.1780 - val_loss: 0.1240 - val_pred1_mae: 0.2327 - val_pred2_mae: 0.2003\n",
      "Epoch 50/100\n",
      "\u001B[1m1/1\u001B[0m \u001B[32m━━━━━━━━━━━━━━━━━━━━\u001B[0m\u001B[37m\u001B[0m \u001B[1m0s\u001B[0m 20ms/step - loss: 0.0637 - pred1_mae: 0.1310 - pred2_mae: 0.1784 - val_loss: 0.0844 - val_pred1_mae: 0.1618 - val_pred2_mae: 0.1816\n",
      "Epoch 51/100\n",
      "\u001B[1m1/1\u001B[0m \u001B[32m━━━━━━━━━━━━━━━━━━━━\u001B[0m\u001B[37m\u001B[0m \u001B[1m0s\u001B[0m 20ms/step - loss: 0.0597 - pred1_mae: 0.1223 - pred2_mae: 0.1719 - val_loss: 0.0536 - val_pred1_mae: 0.1469 - val_pred2_mae: 0.1492\n",
      "Epoch 52/100\n",
      "\u001B[1m1/1\u001B[0m \u001B[32m━━━━━━━━━━━━━━━━━━━━\u001B[0m\u001B[37m\u001B[0m \u001B[1m0s\u001B[0m 21ms/step - loss: 0.0575 - pred1_mae: 0.1273 - pred2_mae: 0.1603 - val_loss: 0.0326 - val_pred1_mae: 0.1361 - val_pred2_mae: 0.1082\n",
      "Epoch 53/100\n",
      "\u001B[1m1/1\u001B[0m \u001B[32m━━━━━━━━━━━━━━━━━━━━\u001B[0m\u001B[37m\u001B[0m \u001B[1m0s\u001B[0m 21ms/step - loss: 0.0568 - pred1_mae: 0.1300 - pred2_mae: 0.1452 - val_loss: 0.0204 - val_pred1_mae: 0.1254 - val_pred2_mae: 0.0646\n",
      "Epoch 54/100\n",
      "\u001B[1m1/1\u001B[0m \u001B[32m━━━━━━━━━━━━━━━━━━━━\u001B[0m\u001B[37m\u001B[0m \u001B[1m0s\u001B[0m 21ms/step - loss: 0.0568 - pred1_mae: 0.1297 - pred2_mae: 0.1287 - val_loss: 0.0146 - val_pred1_mae: 0.1151 - val_pred2_mae: 0.0252\n",
      "Epoch 55/100\n",
      "\u001B[1m1/1\u001B[0m \u001B[32m━━━━━━━━━━━━━━━━━━━━\u001B[0m\u001B[37m\u001B[0m \u001B[1m0s\u001B[0m 21ms/step - loss: 0.0569 - pred1_mae: 0.1262 - pred2_mae: 0.1161 - val_loss: 0.0120 - val_pred1_mae: 0.1054 - val_pred2_mae: 0.0267\n",
      "Epoch 56/100\n",
      "\u001B[1m1/1\u001B[0m \u001B[32m━━━━━━━━━━━━━━━━━━━━\u001B[0m\u001B[37m\u001B[0m \u001B[1m0s\u001B[0m 21ms/step - loss: 0.0561 - pred1_mae: 0.1198 - pred2_mae: 0.1190 - val_loss: 0.0102 - val_pred1_mae: 0.0964 - val_pred2_mae: 0.0245\n",
      "Epoch 57/100\n",
      "\u001B[1m1/1\u001B[0m \u001B[32m━━━━━━━━━━━━━━━━━━━━\u001B[0m\u001B[37m\u001B[0m \u001B[1m0s\u001B[0m 21ms/step - loss: 0.0539 - pred1_mae: 0.1109 - pred2_mae: 0.1223 - val_loss: 0.0083 - val_pred1_mae: 0.0880 - val_pred2_mae: 0.0187\n",
      "Epoch 58/100\n",
      "\u001B[1m1/1\u001B[0m \u001B[32m━━━━━━━━━━━━━━━━━━━━\u001B[0m\u001B[37m\u001B[0m \u001B[1m0s\u001B[0m 20ms/step - loss: 0.0503 - pred1_mae: 0.1005 - pred2_mae: 0.1213 - val_loss: 0.0072 - val_pred1_mae: 0.0802 - val_pred2_mae: 0.0097\n",
      "Epoch 59/100\n",
      "\u001B[1m1/1\u001B[0m \u001B[32m━━━━━━━━━━━━━━━━━━━━\u001B[0m\u001B[37m\u001B[0m \u001B[1m0s\u001B[0m 21ms/step - loss: 0.0458 - pred1_mae: 0.0893 - pred2_mae: 0.1155 - val_loss: 0.0089 - val_pred1_mae: 0.0728 - val_pred2_mae: 0.0400\n",
      "Epoch 60/100\n",
      "\u001B[1m1/1\u001B[0m \u001B[32m━━━━━━━━━━━━━━━━━━━━\u001B[0m\u001B[37m\u001B[0m \u001B[1m0s\u001B[0m 22ms/step - loss: 0.0411 - pred1_mae: 0.0797 - pred2_mae: 0.1128 - val_loss: 0.0153 - val_pred1_mae: 0.0657 - val_pred2_mae: 0.0833\n",
      "Epoch 61/100\n",
      "\u001B[1m1/1\u001B[0m \u001B[32m━━━━━━━━━━━━━━━━━━━━\u001B[0m\u001B[37m\u001B[0m \u001B[1m0s\u001B[0m 20ms/step - loss: 0.0371 - pred1_mae: 0.0794 - pred2_mae: 0.1124 - val_loss: 0.0270 - val_pred1_mae: 0.0737 - val_pred2_mae: 0.1312\n",
      "Epoch 62/100\n",
      "\u001B[1m1/1\u001B[0m \u001B[32m━━━━━━━━━━━━━━━━━━━━\u001B[0m\u001B[37m\u001B[0m \u001B[1m0s\u001B[0m 22ms/step - loss: 0.0345 - pred1_mae: 0.0785 - pred2_mae: 0.1159 - val_loss: 0.0424 - val_pred1_mae: 0.0793 - val_pred2_mae: 0.1773\n",
      "Epoch 63/100\n",
      "\u001B[1m1/1\u001B[0m \u001B[32m━━━━━━━━━━━━━━━━━━━━\u001B[0m\u001B[37m\u001B[0m \u001B[1m0s\u001B[0m 41ms/step - loss: 0.0329 - pred1_mae: 0.0769 - pred2_mae: 0.1253 - val_loss: 0.0581 - val_pred1_mae: 0.0785 - val_pred2_mae: 0.2156\n",
      "Epoch 64/100\n",
      "\u001B[1m1/1\u001B[0m \u001B[32m━━━━━━━━━━━━━━━━━━━━\u001B[0m\u001B[37m\u001B[0m \u001B[1m0s\u001B[0m 22ms/step - loss: 0.0321 - pred1_mae: 0.0747 - pred2_mae: 0.1322 - val_loss: 0.0701 - val_pred1_mae: 0.0719 - val_pred2_mae: 0.2417\n",
      "Epoch 65/100\n",
      "\u001B[1m1/1\u001B[0m \u001B[32m━━━━━━━━━━━━━━━━━━━━\u001B[0m\u001B[37m\u001B[0m \u001B[1m0s\u001B[0m 20ms/step - loss: 0.0313 - pred1_mae: 0.0720 - pred2_mae: 0.1352 - val_loss: 0.0755 - val_pred1_mae: 0.0602 - val_pred2_mae: 0.2530\n",
      "Epoch 66/100\n",
      "\u001B[1m1/1\u001B[0m \u001B[32m━━━━━━━━━━━━━━━━━━━━\u001B[0m\u001B[37m\u001B[0m \u001B[1m0s\u001B[0m 21ms/step - loss: 0.0301 - pred1_mae: 0.0689 - pred2_mae: 0.1336 - val_loss: 0.0735 - val_pred1_mae: 0.0447 - val_pred2_mae: 0.2496\n",
      "Epoch 67/100\n",
      "\u001B[1m1/1\u001B[0m \u001B[32m━━━━━━━━━━━━━━━━━━━━\u001B[0m\u001B[37m\u001B[0m \u001B[1m0s\u001B[0m 20ms/step - loss: 0.0283 - pred1_mae: 0.0654 - pred2_mae: 0.1276 - val_loss: 0.0658 - val_pred1_mae: 0.0262 - val_pred2_mae: 0.2339\n",
      "Epoch 68/100\n",
      "\u001B[1m1/1\u001B[0m \u001B[32m━━━━━━━━━━━━━━━━━━━━\u001B[0m\u001B[37m\u001B[0m \u001B[1m0s\u001B[0m 19ms/step - loss: 0.0263 - pred1_mae: 0.0615 - pred2_mae: 0.1223 - val_loss: 0.0556 - val_pred1_mae: 0.0159 - val_pred2_mae: 0.2099\n",
      "Epoch 69/100\n",
      "\u001B[1m1/1\u001B[0m \u001B[32m━━━━━━━━━━━━━━━━━━━━\u001B[0m\u001B[37m\u001B[0m \u001B[1m0s\u001B[0m 20ms/step - loss: 0.0245 - pred1_mae: 0.0574 - pred2_mae: 0.1227 - val_loss: 0.0460 - val_pred1_mae: 0.0155 - val_pred2_mae: 0.1830\n",
      "Epoch 70/100\n",
      "\u001B[1m1/1\u001B[0m \u001B[32m━━━━━━━━━━━━━━━━━━━━\u001B[0m\u001B[37m\u001B[0m \u001B[1m0s\u001B[0m 19ms/step - loss: 0.0233 - pred1_mae: 0.0530 - pred2_mae: 0.1226 - val_loss: 0.0392 - val_pred1_mae: 0.0367 - val_pred2_mae: 0.1586\n",
      "Epoch 71/100\n",
      "\u001B[1m1/1\u001B[0m \u001B[32m━━━━━━━━━━━━━━━━━━━━\u001B[0m\u001B[37m\u001B[0m \u001B[1m0s\u001B[0m 18ms/step - loss: 0.0227 - pred1_mae: 0.0482 - pred2_mae: 0.1218 - val_loss: 0.0360 - val_pred1_mae: 0.0565 - val_pred2_mae: 0.1410\n",
      "Epoch 72/100\n",
      "\u001B[1m1/1\u001B[0m \u001B[32m━━━━━━━━━━━━━━━━━━━━\u001B[0m\u001B[37m\u001B[0m \u001B[1m0s\u001B[0m 20ms/step - loss: 0.0224 - pred1_mae: 0.0454 - pred2_mae: 0.1203 - val_loss: 0.0359 - val_pred1_mae: 0.0737 - val_pred2_mae: 0.1330\n",
      "Epoch 73/100\n",
      "\u001B[1m1/1\u001B[0m \u001B[32m━━━━━━━━━━━━━━━━━━━━\u001B[0m\u001B[37m\u001B[0m \u001B[1m0s\u001B[0m 20ms/step - loss: 0.0220 - pred1_mae: 0.0455 - pred2_mae: 0.1181 - val_loss: 0.0384 - val_pred1_mae: 0.0870 - val_pred2_mae: 0.1352\n",
      "Epoch 74/100\n",
      "\u001B[1m1/1\u001B[0m \u001B[32m━━━━━━━━━━━━━━━━━━━━\u001B[0m\u001B[37m\u001B[0m \u001B[1m0s\u001B[0m 20ms/step - loss: 0.0213 - pred1_mae: 0.0471 - pred2_mae: 0.1154 - val_loss: 0.0427 - val_pred1_mae: 0.0954 - val_pred2_mae: 0.1463\n",
      "Epoch 75/100\n",
      "\u001B[1m1/1\u001B[0m \u001B[32m━━━━━━━━━━━━━━━━━━━━\u001B[0m\u001B[37m\u001B[0m \u001B[1m0s\u001B[0m 20ms/step - loss: 0.0203 - pred1_mae: 0.0465 - pred2_mae: 0.1123 - val_loss: 0.0479 - val_pred1_mae: 0.0983 - val_pred2_mae: 0.1632\n",
      "Epoch 76/100\n",
      "\u001B[1m1/1\u001B[0m \u001B[32m━━━━━━━━━━━━━━━━━━━━\u001B[0m\u001B[37m\u001B[0m \u001B[1m0s\u001B[0m 20ms/step - loss: 0.0191 - pred1_mae: 0.0437 - pred2_mae: 0.1090 - val_loss: 0.0532 - val_pred1_mae: 0.0953 - val_pred2_mae: 0.1819\n",
      "Epoch 77/100\n",
      "\u001B[1m1/1\u001B[0m \u001B[32m━━━━━━━━━━━━━━━━━━━━\u001B[0m\u001B[37m\u001B[0m \u001B[1m0s\u001B[0m 19ms/step - loss: 0.0180 - pred1_mae: 0.0386 - pred2_mae: 0.1056 - val_loss: 0.0574 - val_pred1_mae: 0.0871 - val_pred2_mae: 0.1987\n",
      "Epoch 78/100\n",
      "\u001B[1m1/1\u001B[0m \u001B[32m━━━━━━━━━━━━━━━━━━━━\u001B[0m\u001B[37m\u001B[0m \u001B[1m0s\u001B[0m 20ms/step - loss: 0.0171 - pred1_mae: 0.0315 - pred2_mae: 0.1022 - val_loss: 0.0596 - val_pred1_mae: 0.0750 - val_pred2_mae: 0.2105\n",
      "Epoch 79/100\n",
      "\u001B[1m1/1\u001B[0m \u001B[32m━━━━━━━━━━━━━━━━━━━━\u001B[0m\u001B[37m\u001B[0m \u001B[1m0s\u001B[0m 21ms/step - loss: 0.0163 - pred1_mae: 0.0272 - pred2_mae: 0.0991 - val_loss: 0.0590 - val_pred1_mae: 0.0606 - val_pred2_mae: 0.2156\n",
      "Epoch 80/100\n",
      "\u001B[1m1/1\u001B[0m \u001B[32m━━━━━━━━━━━━━━━━━━━━\u001B[0m\u001B[37m\u001B[0m \u001B[1m0s\u001B[0m 20ms/step - loss: 0.0159 - pred1_mae: 0.0250 - pred2_mae: 0.0964 - val_loss: 0.0546 - val_pred1_mae: 0.0480 - val_pred2_mae: 0.2106\n",
      "Epoch 81/100\n",
      "\u001B[1m1/1\u001B[0m \u001B[32m━━━━━━━━━━━━━━━━━━━━\u001B[0m\u001B[37m\u001B[0m \u001B[1m0s\u001B[0m 20ms/step - loss: 0.0155 - pred1_mae: 0.0236 - pred2_mae: 0.0946 - val_loss: 0.0473 - val_pred1_mae: 0.0385 - val_pred2_mae: 0.1970\n",
      "Epoch 82/100\n",
      "\u001B[1m1/1\u001B[0m \u001B[32m━━━━━━━━━━━━━━━━━━━━\u001B[0m\u001B[37m\u001B[0m \u001B[1m0s\u001B[0m 20ms/step - loss: 0.0149 - pred1_mae: 0.0267 - pred2_mae: 0.0934 - val_loss: 0.0389 - val_pred1_mae: 0.0340 - val_pred2_mae: 0.1785\n",
      "Epoch 83/100\n",
      "\u001B[1m1/1\u001B[0m \u001B[32m━━━━━━━━━━━━━━━━━━━━\u001B[0m\u001B[37m\u001B[0m \u001B[1m0s\u001B[0m 20ms/step - loss: 0.0144 - pred1_mae: 0.0292 - pred2_mae: 0.0923 - val_loss: 0.0325 - val_pred1_mae: 0.0338 - val_pred2_mae: 0.1624\n",
      "Epoch 84/100\n",
      "\u001B[1m1/1\u001B[0m \u001B[32m━━━━━━━━━━━━━━━━━━━━\u001B[0m\u001B[37m\u001B[0m \u001B[1m0s\u001B[0m 20ms/step - loss: 0.0142 - pred1_mae: 0.0297 - pred2_mae: 0.0914 - val_loss: 0.0287 - val_pred1_mae: 0.0384 - val_pred2_mae: 0.1516\n",
      "Epoch 85/100\n",
      "\u001B[1m1/1\u001B[0m \u001B[32m━━━━━━━━━━━━━━━━━━━━\u001B[0m\u001B[37m\u001B[0m \u001B[1m0s\u001B[0m 21ms/step - loss: 0.0139 - pred1_mae: 0.0283 - pred2_mae: 0.0903 - val_loss: 0.0278 - val_pred1_mae: 0.0472 - val_pred2_mae: 0.1477\n",
      "Epoch 86/100\n",
      "\u001B[1m1/1\u001B[0m \u001B[32m━━━━━━━━━━━━━━━━━━━━\u001B[0m\u001B[37m\u001B[0m \u001B[1m0s\u001B[0m 19ms/step - loss: 0.0136 - pred1_mae: 0.0252 - pred2_mae: 0.0888 - val_loss: 0.0294 - val_pred1_mae: 0.0592 - val_pred2_mae: 0.1503\n",
      "Epoch 87/100\n",
      "\u001B[1m1/1\u001B[0m \u001B[32m━━━━━━━━━━━━━━━━━━━━\u001B[0m\u001B[37m\u001B[0m \u001B[1m0s\u001B[0m 20ms/step - loss: 0.0131 - pred1_mae: 0.0210 - pred2_mae: 0.0871 - val_loss: 0.0331 - val_pred1_mae: 0.0724 - val_pred2_mae: 0.1577\n",
      "Epoch 88/100\n",
      "\u001B[1m1/1\u001B[0m \u001B[32m━━━━━━━━━━━━━━━━━━━━\u001B[0m\u001B[37m\u001B[0m \u001B[1m0s\u001B[0m 21ms/step - loss: 0.0126 - pred1_mae: 0.0190 - pred2_mae: 0.0853 - val_loss: 0.0381 - val_pred1_mae: 0.0849 - val_pred2_mae: 0.1674\n",
      "Epoch 89/100\n",
      "\u001B[1m1/1\u001B[0m \u001B[32m━━━━━━━━━━━━━━━━━━━━\u001B[0m\u001B[37m\u001B[0m \u001B[1m0s\u001B[0m 21ms/step - loss: 0.0122 - pred1_mae: 0.0184 - pred2_mae: 0.0835 - val_loss: 0.0429 - val_pred1_mae: 0.0948 - val_pred2_mae: 0.1765\n",
      "Epoch 90/100\n",
      "\u001B[1m1/1\u001B[0m \u001B[32m━━━━━━━━━━━━━━━━━━━━\u001B[0m\u001B[37m\u001B[0m \u001B[1m0s\u001B[0m 20ms/step - loss: 0.0119 - pred1_mae: 0.0190 - pred2_mae: 0.0819 - val_loss: 0.0463 - val_pred1_mae: 0.1009 - val_pred2_mae: 0.1826\n",
      "Epoch 91/100\n",
      "\u001B[1m1/1\u001B[0m \u001B[32m━━━━━━━━━━━━━━━━━━━━\u001B[0m\u001B[37m\u001B[0m \u001B[1m0s\u001B[0m 21ms/step - loss: 0.0115 - pred1_mae: 0.0198 - pred2_mae: 0.0806 - val_loss: 0.0474 - val_pred1_mae: 0.1026 - val_pred2_mae: 0.1844\n",
      "Epoch 92/100\n",
      "\u001B[1m1/1\u001B[0m \u001B[32m━━━━━━━━━━━━━━━━━━━━\u001B[0m\u001B[37m\u001B[0m \u001B[1m0s\u001B[0m 20ms/step - loss: 0.0112 - pred1_mae: 0.0194 - pred2_mae: 0.0798 - val_loss: 0.0460 - val_pred1_mae: 0.1004 - val_pred2_mae: 0.1817\n",
      "Epoch 93/100\n",
      "\u001B[1m1/1\u001B[0m \u001B[32m━━━━━━━━━━━━━━━━━━━━\u001B[0m\u001B[37m\u001B[0m \u001B[1m0s\u001B[0m 20ms/step - loss: 0.0108 - pred1_mae: 0.0180 - pred2_mae: 0.0795 - val_loss: 0.0419 - val_pred1_mae: 0.0971 - val_pred2_mae: 0.1720\n",
      "Epoch 94/100\n",
      "\u001B[1m1/1\u001B[0m \u001B[32m━━━━━━━━━━━━━━━━━━━━\u001B[0m\u001B[37m\u001B[0m \u001B[1m0s\u001B[0m 19ms/step - loss: 0.0104 - pred1_mae: 0.0164 - pred2_mae: 0.0796 - val_loss: 0.0367 - val_pred1_mae: 0.0941 - val_pred2_mae: 0.1584\n",
      "Epoch 95/100\n",
      "\u001B[1m1/1\u001B[0m \u001B[32m━━━━━━━━━━━━━━━━━━━━\u001B[0m\u001B[37m\u001B[0m \u001B[1m0s\u001B[0m 20ms/step - loss: 0.0102 - pred1_mae: 0.0158 - pred2_mae: 0.0798 - val_loss: 0.0330 - val_pred1_mae: 0.0908 - val_pred2_mae: 0.1483\n",
      "Epoch 96/100\n",
      "\u001B[1m1/1\u001B[0m \u001B[32m━━━━━━━━━━━━━━━━━━━━\u001B[0m\u001B[37m\u001B[0m \u001B[1m0s\u001B[0m 19ms/step - loss: 0.0100 - pred1_mae: 0.0168 - pred2_mae: 0.0797 - val_loss: 0.0312 - val_pred1_mae: 0.0885 - val_pred2_mae: 0.1439\n",
      "Epoch 97/100\n",
      "\u001B[1m1/1\u001B[0m \u001B[32m━━━━━━━━━━━━━━━━━━━━\u001B[0m\u001B[37m\u001B[0m \u001B[1m0s\u001B[0m 22ms/step - loss: 0.0098 - pred1_mae: 0.0175 - pred2_mae: 0.0792 - val_loss: 0.0315 - val_pred1_mae: 0.0877 - val_pred2_mae: 0.1456\n",
      "Epoch 98/100\n",
      "\u001B[1m1/1\u001B[0m \u001B[32m━━━━━━━━━━━━━━━━━━━━\u001B[0m\u001B[37m\u001B[0m \u001B[1m0s\u001B[0m 21ms/step - loss: 0.0095 - pred1_mae: 0.0178 - pred2_mae: 0.0782 - val_loss: 0.0326 - val_pred1_mae: 0.0902 - val_pred2_mae: 0.1484\n",
      "Epoch 99/100\n",
      "\u001B[1m1/1\u001B[0m \u001B[32m━━━━━━━━━━━━━━━━━━━━\u001B[0m\u001B[37m\u001B[0m \u001B[1m0s\u001B[0m 20ms/step - loss: 0.0093 - pred1_mae: 0.0178 - pred2_mae: 0.0769 - val_loss: 0.0340 - val_pred1_mae: 0.0954 - val_pred2_mae: 0.1510\n",
      "Epoch 100/100\n",
      "\u001B[1m1/1\u001B[0m \u001B[32m━━━━━━━━━━━━━━━━━━━━\u001B[0m\u001B[37m\u001B[0m \u001B[1m0s\u001B[0m 20ms/step - loss: 0.0090 - pred1_mae: 0.0175 - pred2_mae: 0.0753 - val_loss: 0.0362 - val_pred1_mae: 0.1001 - val_pred2_mae: 0.1558\n"
     ]
    }
   ],
   "execution_count": 58
  },
  {
   "metadata": {
    "ExecuteTime": {
     "end_time": "2024-09-04T18:44:17.208785Z",
     "start_time": "2024-09-04T18:44:17.165994Z"
    }
   },
   "cell_type": "code",
   "source": "plt.plot(history.history[\"loss\"])",
   "id": "fbd3f664be7d44d2",
   "outputs": [
    {
     "data": {
      "text/plain": [
       "[<matplotlib.lines.Line2D at 0x29fb10f10>]"
      ]
     },
     "execution_count": 59,
     "metadata": {},
     "output_type": "execute_result"
    },
    {
     "data": {
      "text/plain": [
       "<Figure size 640x480 with 1 Axes>"
      ],
      "image/png": "[encoded data removed]"
     },
     "metadata": {},
     "output_type": "display_data"
    }
   ],
   "execution_count": 59
  },
  {
   "metadata": {
    "ExecuteTime": {
     "end_time": "2024-09-04T18:48:01.261296Z",
     "start_time": "2024-09-04T18:48:01.200055Z"
    }
   },
   "cell_type": "code",
   "source": [
    "arr = np.array([[1, 0]])  \n",
    "predictions = model.predict(arr)\n",
    "print(predictions[0][0][0], predictions[1][0][0])"
   ],
   "id": "dc8acca6adcc6155",
   "outputs": [
    {
     "name": "stdout",
     "output_type": "stream",
     "text": [
      "\u001B[1m1/1\u001B[0m \u001B[32m━━━━━━━━━━━━━━━━━━━━\u001B[0m\u001B[37m\u001B[0m \u001B[1m0s\u001B[0m 10ms/step\n",
      "1.0335673 0.9684551\n"
     ]
    }
   ],
   "execution_count": 77
  }
 ],
 "metadata": {
  "kernelspec": {
   "display_name": "Python 3",
   "language": "python",
   "name": "python3"
  },
  "language_info": {
   "codemirror_mode": {
    "name": "ipython",
    "version": 2
   },
   "file_extension": ".py",
   "mimetype": "text/x-python",
   "name": "python",
   "nbconvert_exporter": "python",
   "pygments_lexer": "ipython2",
   "version": "2.7.6"
  }
 },
 "nbformat": 4,
 "nbformat_minor": 5
}
